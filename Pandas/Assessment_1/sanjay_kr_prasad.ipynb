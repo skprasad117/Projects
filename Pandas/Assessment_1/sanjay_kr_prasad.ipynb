{
 "cells": [
  {
   "cell_type": "code",
   "execution_count": 1,
   "id": "65581443",
   "metadata": {},
   "outputs": [],
   "source": [
    "# importing all needed libraries\n",
    "import pandas as pd\n",
    "import numpy as np"
   ]
  },
  {
   "cell_type": "code",
   "execution_count": 2,
   "id": "5fad9ffd",
   "metadata": {},
   "outputs": [],
   "source": [
    "# importing all files to dataframe\n",
    "employee_data =  pd.read_csv('employee_data.csv')\n",
    "insurance_data =  pd.read_csv('insurance_data.csv')\n",
    "vendor_data =  pd.read_csv('vendor_data.csv')"
   ]
  },
  {
   "cell_type": "markdown",
   "id": "e5399f09",
   "metadata": {},
   "source": [
    "# Task  1 Merge the 3 dataset and create 1 view of data."
   ]
  },
  {
   "cell_type": "code",
   "execution_count": 3,
   "id": "fe1b74b9",
   "metadata": {},
   "outputs": [],
   "source": [
    "# merging insurance and employee data and creating new dataframe 'df1'\n",
    "df1=pd.merge(insurance_data,employee_data, on = 'AGENT_ID', how='left')"
   ]
  },
  {
   "cell_type": "code",
   "execution_count": 4,
   "id": "b3853568",
   "metadata": {},
   "outputs": [],
   "source": [
    "# merging 'df1' with vendor dataframe\n",
    "df_final=pd.merge(df1,vendor_data,on='VENDOR_ID', how=\"left\")"
   ]
  },
  {
   "cell_type": "code",
   "execution_count": 5,
   "id": "83a6aa6f",
   "metadata": {},
   "outputs": [],
   "source": [
    "# setting an index column to uniquely identify each row whenver needed\n",
    "df_final.reset_index(inplace=True)"
   ]
  },
  {
   "cell_type": "markdown",
   "id": "6a46f3ac",
   "metadata": {},
   "source": [
    "## Task 1 Result"
   ]
  },
  {
   "cell_type": "code",
   "execution_count": 6,
   "id": "1ddb2b9c",
   "metadata": {},
   "outputs": [
    {
     "data": {
      "text/html": [
       "<div>\n",
       "<style scoped>\n",
       "    .dataframe tbody tr th:only-of-type {\n",
       "        vertical-align: middle;\n",
       "    }\n",
       "\n",
       "    .dataframe tbody tr th {\n",
       "        vertical-align: top;\n",
       "    }\n",
       "\n",
       "    .dataframe thead th {\n",
       "        text-align: right;\n",
       "    }\n",
       "</style>\n",
       "<table border=\"1\" class=\"dataframe\">\n",
       "  <thead>\n",
       "    <tr style=\"text-align: right;\">\n",
       "      <th></th>\n",
       "      <th>index</th>\n",
       "      <th>TXN_DATE_TIME</th>\n",
       "      <th>TRANSACTION_ID</th>\n",
       "      <th>CUSTOMER_ID</th>\n",
       "      <th>POLICY_NUMBER</th>\n",
       "      <th>POLICY_EFF_DT</th>\n",
       "      <th>LOSS_DT</th>\n",
       "      <th>REPORT_DT</th>\n",
       "      <th>INSURANCE_TYPE</th>\n",
       "      <th>PREMIUM_AMOUNT</th>\n",
       "      <th>...</th>\n",
       "      <th>STATE_y</th>\n",
       "      <th>POSTAL_CODE_y</th>\n",
       "      <th>EMP_ROUTING_NUMBER</th>\n",
       "      <th>EMP_ACCT_NUMBER</th>\n",
       "      <th>VENDOR_NAME</th>\n",
       "      <th>ADDRESS_LINE1</th>\n",
       "      <th>ADDRESS_LINE2</th>\n",
       "      <th>CITY</th>\n",
       "      <th>STATE</th>\n",
       "      <th>POSTAL_CODE</th>\n",
       "    </tr>\n",
       "  </thead>\n",
       "  <tbody>\n",
       "    <tr>\n",
       "      <th>0</th>\n",
       "      <td>0</td>\n",
       "      <td>2020-06-01 00:00:00</td>\n",
       "      <td>TXN00000001</td>\n",
       "      <td>A00003822</td>\n",
       "      <td>PLC00008468</td>\n",
       "      <td>2015-06-23</td>\n",
       "      <td>2020-05-16</td>\n",
       "      <td>2020-05-21</td>\n",
       "      <td>Health</td>\n",
       "      <td>157.13</td>\n",
       "      <td>...</td>\n",
       "      <td>TN</td>\n",
       "      <td>37217</td>\n",
       "      <td>35441155</td>\n",
       "      <td>LRZO53254369804934</td>\n",
       "      <td>Ramsey Inc</td>\n",
       "      <td>3114 West 20th Court</td>\n",
       "      <td>NaN</td>\n",
       "      <td>Panama City</td>\n",
       "      <td>FL</td>\n",
       "      <td>32405.0</td>\n",
       "    </tr>\n",
       "    <tr>\n",
       "      <th>1</th>\n",
       "      <td>1</td>\n",
       "      <td>2020-06-01 00:00:00</td>\n",
       "      <td>TXN00000002</td>\n",
       "      <td>A00008149</td>\n",
       "      <td>PLC00009594</td>\n",
       "      <td>2018-04-21</td>\n",
       "      <td>2020-05-13</td>\n",
       "      <td>2020-05-18</td>\n",
       "      <td>Property</td>\n",
       "      <td>141.71</td>\n",
       "      <td>...</td>\n",
       "      <td>AZ</td>\n",
       "      <td>85301</td>\n",
       "      <td>44055451</td>\n",
       "      <td>XBYG14382904542874</td>\n",
       "      <td>Morales, Campbell and Washington</td>\n",
       "      <td>42 West Louise Street</td>\n",
       "      <td>B</td>\n",
       "      <td>Fayetteville</td>\n",
       "      <td>AR</td>\n",
       "      <td>72701.0</td>\n",
       "    </tr>\n",
       "    <tr>\n",
       "      <th>2</th>\n",
       "      <td>2</td>\n",
       "      <td>2020-06-01 00:00:00</td>\n",
       "      <td>TXN00000003</td>\n",
       "      <td>A00003172</td>\n",
       "      <td>PLC00007969</td>\n",
       "      <td>2019-10-03</td>\n",
       "      <td>2020-05-21</td>\n",
       "      <td>2020-05-26</td>\n",
       "      <td>Property</td>\n",
       "      <td>157.24</td>\n",
       "      <td>...</td>\n",
       "      <td>AL</td>\n",
       "      <td>36105</td>\n",
       "      <td>55770246</td>\n",
       "      <td>WRXH14597428306333</td>\n",
       "      <td>Johnson Ltd</td>\n",
       "      <td>2619 North Quality Lane</td>\n",
       "      <td>#315</td>\n",
       "      <td>Fayetteville</td>\n",
       "      <td>AR</td>\n",
       "      <td>72703.0</td>\n",
       "    </tr>\n",
       "    <tr>\n",
       "      <th>3</th>\n",
       "      <td>3</td>\n",
       "      <td>2020-06-01 00:00:00</td>\n",
       "      <td>TXN00000004</td>\n",
       "      <td>A00007572</td>\n",
       "      <td>PLC00009292</td>\n",
       "      <td>2016-11-29</td>\n",
       "      <td>2020-05-14</td>\n",
       "      <td>2020-05-19</td>\n",
       "      <td>Health</td>\n",
       "      <td>172.87</td>\n",
       "      <td>...</td>\n",
       "      <td>OK</td>\n",
       "      <td>73071</td>\n",
       "      <td>87652976</td>\n",
       "      <td>YEPN16077902472499</td>\n",
       "      <td>Blackwell-Foster</td>\n",
       "      <td>3609 Meadow Drive</td>\n",
       "      <td>NaN</td>\n",
       "      <td>Nashville</td>\n",
       "      <td>TN</td>\n",
       "      <td>37215.0</td>\n",
       "    </tr>\n",
       "  </tbody>\n",
       "</table>\n",
       "<p>4 rows × 54 columns</p>\n",
       "</div>"
      ],
      "text/plain": [
       "   index        TXN_DATE_TIME TRANSACTION_ID CUSTOMER_ID POLICY_NUMBER  \\\n",
       "0      0  2020-06-01 00:00:00    TXN00000001   A00003822   PLC00008468   \n",
       "1      1  2020-06-01 00:00:00    TXN00000002   A00008149   PLC00009594   \n",
       "2      2  2020-06-01 00:00:00    TXN00000003   A00003172   PLC00007969   \n",
       "3      3  2020-06-01 00:00:00    TXN00000004   A00007572   PLC00009292   \n",
       "\n",
       "  POLICY_EFF_DT     LOSS_DT   REPORT_DT INSURANCE_TYPE  PREMIUM_AMOUNT  ...  \\\n",
       "0    2015-06-23  2020-05-16  2020-05-21         Health          157.13  ...   \n",
       "1    2018-04-21  2020-05-13  2020-05-18       Property          141.71  ...   \n",
       "2    2019-10-03  2020-05-21  2020-05-26       Property          157.24  ...   \n",
       "3    2016-11-29  2020-05-14  2020-05-19         Health          172.87  ...   \n",
       "\n",
       "   STATE_y POSTAL_CODE_y EMP_ROUTING_NUMBER     EMP_ACCT_NUMBER  \\\n",
       "0       TN         37217           35441155  LRZO53254369804934   \n",
       "1       AZ         85301           44055451  XBYG14382904542874   \n",
       "2       AL         36105           55770246  WRXH14597428306333   \n",
       "3       OK         73071           87652976  YEPN16077902472499   \n",
       "\n",
       "                        VENDOR_NAME            ADDRESS_LINE1  ADDRESS_LINE2  \\\n",
       "0                        Ramsey Inc     3114 West 20th Court            NaN   \n",
       "1  Morales, Campbell and Washington    42 West Louise Street              B   \n",
       "2                       Johnson Ltd  2619 North Quality Lane           #315   \n",
       "3                  Blackwell-Foster        3609 Meadow Drive            NaN   \n",
       "\n",
       "           CITY STATE  POSTAL_CODE  \n",
       "0   Panama City    FL      32405.0  \n",
       "1  Fayetteville    AR      72701.0  \n",
       "2  Fayetteville    AR      72703.0  \n",
       "3     Nashville    TN      37215.0  \n",
       "\n",
       "[4 rows x 54 columns]"
      ]
     },
     "execution_count": 6,
     "metadata": {},
     "output_type": "execute_result"
    }
   ],
   "source": [
    "# all three data combined in one single data frane\n",
    "df_final.head(4)"
   ]
  },
  {
   "cell_type": "code",
   "execution_count": 7,
   "id": "f5a12244",
   "metadata": {},
   "outputs": [],
   "source": [
    "# fixing the dataset"
   ]
  },
  {
   "cell_type": "code",
   "execution_count": 8,
   "id": "94ac47f8",
   "metadata": {},
   "outputs": [
    {
     "name": "stdout",
     "output_type": "stream",
     "text": [
      "<class 'pandas.core.frame.DataFrame'>\n",
      "RangeIndex: 10000 entries, 0 to 9999\n",
      "Data columns (total 54 columns):\n",
      " #   Column                    Non-Null Count  Dtype  \n",
      "---  ------                    --------------  -----  \n",
      " 0   index                     10000 non-null  int64  \n",
      " 1   TXN_DATE_TIME             10000 non-null  object \n",
      " 2   TRANSACTION_ID            10000 non-null  object \n",
      " 3   CUSTOMER_ID               10000 non-null  object \n",
      " 4   POLICY_NUMBER             10000 non-null  object \n",
      " 5   POLICY_EFF_DT             10000 non-null  object \n",
      " 6   LOSS_DT                   10000 non-null  object \n",
      " 7   REPORT_DT                 10000 non-null  object \n",
      " 8   INSURANCE_TYPE            10000 non-null  object \n",
      " 9   PREMIUM_AMOUNT            10000 non-null  float64\n",
      " 10  CLAIM_AMOUNT              10000 non-null  int64  \n",
      " 11  CUSTOMER_NAME             10000 non-null  object \n",
      " 12  ADDRESS_LINE1_x           10000 non-null  object \n",
      " 13  ADDRESS_LINE2_x           1495 non-null   object \n",
      " 14  CITY_x                    9946 non-null   object \n",
      " 15  STATE_x                   10000 non-null  object \n",
      " 16  POSTAL_CODE_x             10000 non-null  int64  \n",
      " 17  SSN                       10000 non-null  object \n",
      " 18  MARITAL_STATUS            10000 non-null  object \n",
      " 19  AGE                       10000 non-null  int64  \n",
      " 20  TENURE                    10000 non-null  int64  \n",
      " 21  EMPLOYMENT_STATUS         10000 non-null  object \n",
      " 22  NO_OF_FAMILY_MEMBERS      10000 non-null  int64  \n",
      " 23  RISK_SEGMENTATION         10000 non-null  object \n",
      " 24  HOUSE_TYPE                10000 non-null  object \n",
      " 25  SOCIAL_CLASS              10000 non-null  object \n",
      " 26  ROUTING_NUMBER            10000 non-null  int64  \n",
      " 27  ACCT_NUMBER               10000 non-null  object \n",
      " 28  CUSTOMER_EDUCATION_LEVEL  9471 non-null   object \n",
      " 29  CLAIM_STATUS              10000 non-null  object \n",
      " 30  INCIDENT_SEVERITY         10000 non-null  object \n",
      " 31  AUTHORITY_CONTACTED       10000 non-null  object \n",
      " 32  ANY_INJURY                10000 non-null  int64  \n",
      " 33  POLICE_REPORT_AVAILABLE   10000 non-null  int64  \n",
      " 34  INCIDENT_STATE            10000 non-null  object \n",
      " 35  INCIDENT_CITY             9954 non-null   object \n",
      " 36  INCIDENT_HOUR_OF_THE_DAY  10000 non-null  int64  \n",
      " 37  AGENT_ID                  10000 non-null  object \n",
      " 38  VENDOR_ID                 6755 non-null   object \n",
      " 39  AGENT_NAME                10000 non-null  object \n",
      " 40  DATE_OF_JOINING           10000 non-null  object \n",
      " 41  ADDRESS_LINE1_y           10000 non-null  object \n",
      " 42  ADDRESS_LINE2_y           1451 non-null   object \n",
      " 43  CITY_y                    9946 non-null   object \n",
      " 44  STATE_y                   10000 non-null  object \n",
      " 45  POSTAL_CODE_y             10000 non-null  int64  \n",
      " 46  EMP_ROUTING_NUMBER        10000 non-null  int64  \n",
      " 47  EMP_ACCT_NUMBER           10000 non-null  object \n",
      " 48  VENDOR_NAME               6755 non-null   object \n",
      " 49  ADDRESS_LINE1             6755 non-null   object \n",
      " 50  ADDRESS_LINE2             1145 non-null   object \n",
      " 51  CITY                      6713 non-null   object \n",
      " 52  STATE                     6755 non-null   object \n",
      " 53  POSTAL_CODE               6755 non-null   float64\n",
      "dtypes: float64(2), int64(12), object(40)\n",
      "memory usage: 4.1+ MB\n"
     ]
    }
   ],
   "source": [
    "# checking for null values and for possible modification in dataframe\n",
    "df_final.info()"
   ]
  },
  {
   "cell_type": "code",
   "execution_count": 9,
   "id": "c612d299",
   "metadata": {},
   "outputs": [],
   "source": [
    "# fixing the date time column datatype from object to datetime\n",
    "df_final['REPORT_DT']=pd.to_datetime(df_final['REPORT_DT'])\n",
    "df_final['POLICY_EFF_DT']=pd.to_datetime(df_final['POLICY_EFF_DT'])\n",
    "df_final['LOSS_DT']=pd.to_datetime(df_final['LOSS_DT'])"
   ]
  },
  {
   "cell_type": "code",
   "execution_count": 10,
   "id": "40ad3a31",
   "metadata": {},
   "outputs": [],
   "source": [
    "# fixing the format \n",
    "df_final['LOSS_DT']=pd.to_datetime(df_final['LOSS_DT'],format='%d/%m/%y')"
   ]
  },
  {
   "cell_type": "code",
   "execution_count": 11,
   "id": "4215b037",
   "metadata": {},
   "outputs": [],
   "source": [
    "df_final['30_day_back']=df_final['LOSS_DT'] -  pd.to_timedelta(31, unit='d')"
   ]
  },
  {
   "cell_type": "code",
   "execution_count": 12,
   "id": "3f91e987",
   "metadata": {},
   "outputs": [
    {
     "data": {
      "text/html": [
       "<div>\n",
       "<style scoped>\n",
       "    .dataframe tbody tr th:only-of-type {\n",
       "        vertical-align: middle;\n",
       "    }\n",
       "\n",
       "    .dataframe tbody tr th {\n",
       "        vertical-align: top;\n",
       "    }\n",
       "\n",
       "    .dataframe thead th {\n",
       "        text-align: right;\n",
       "    }\n",
       "</style>\n",
       "<table border=\"1\" class=\"dataframe\">\n",
       "  <thead>\n",
       "    <tr style=\"text-align: right;\">\n",
       "      <th></th>\n",
       "      <th>LOSS_DT</th>\n",
       "      <th>30_day_back</th>\n",
       "    </tr>\n",
       "  </thead>\n",
       "  <tbody>\n",
       "    <tr>\n",
       "      <th>0</th>\n",
       "      <td>2020-05-16</td>\n",
       "      <td>2020-04-15</td>\n",
       "    </tr>\n",
       "    <tr>\n",
       "      <th>1</th>\n",
       "      <td>2020-05-13</td>\n",
       "      <td>2020-04-12</td>\n",
       "    </tr>\n",
       "    <tr>\n",
       "      <th>2</th>\n",
       "      <td>2020-05-21</td>\n",
       "      <td>2020-04-20</td>\n",
       "    </tr>\n",
       "    <tr>\n",
       "      <th>3</th>\n",
       "      <td>2020-05-14</td>\n",
       "      <td>2020-04-13</td>\n",
       "    </tr>\n",
       "    <tr>\n",
       "      <th>4</th>\n",
       "      <td>2020-05-17</td>\n",
       "      <td>2020-04-16</td>\n",
       "    </tr>\n",
       "    <tr>\n",
       "      <th>...</th>\n",
       "      <td>...</td>\n",
       "      <td>...</td>\n",
       "    </tr>\n",
       "    <tr>\n",
       "      <th>9995</th>\n",
       "      <td>2021-06-25</td>\n",
       "      <td>2021-05-25</td>\n",
       "    </tr>\n",
       "    <tr>\n",
       "      <th>9996</th>\n",
       "      <td>2021-06-12</td>\n",
       "      <td>2021-05-12</td>\n",
       "    </tr>\n",
       "    <tr>\n",
       "      <th>9997</th>\n",
       "      <td>2021-06-18</td>\n",
       "      <td>2021-05-18</td>\n",
       "    </tr>\n",
       "    <tr>\n",
       "      <th>9998</th>\n",
       "      <td>2021-06-16</td>\n",
       "      <td>2021-05-16</td>\n",
       "    </tr>\n",
       "    <tr>\n",
       "      <th>9999</th>\n",
       "      <td>2021-06-21</td>\n",
       "      <td>2021-05-21</td>\n",
       "    </tr>\n",
       "  </tbody>\n",
       "</table>\n",
       "<p>10000 rows × 2 columns</p>\n",
       "</div>"
      ],
      "text/plain": [
       "        LOSS_DT 30_day_back\n",
       "0    2020-05-16  2020-04-15\n",
       "1    2020-05-13  2020-04-12\n",
       "2    2020-05-21  2020-04-20\n",
       "3    2020-05-14  2020-04-13\n",
       "4    2020-05-17  2020-04-16\n",
       "...         ...         ...\n",
       "9995 2021-06-25  2021-05-25\n",
       "9996 2021-06-12  2021-05-12\n",
       "9997 2021-06-18  2021-05-18\n",
       "9998 2021-06-16  2021-05-16\n",
       "9999 2021-06-21  2021-05-21\n",
       "\n",
       "[10000 rows x 2 columns]"
      ]
     },
     "execution_count": 12,
     "metadata": {},
     "output_type": "execute_result"
    }
   ],
   "source": [
    "df_final[['LOSS_DT','30_day_back']]"
   ]
  },
  {
   "cell_type": "code",
   "execution_count": 13,
   "id": "25758d98",
   "metadata": {},
   "outputs": [
    {
     "data": {
      "text/plain": [
       "index                                int64\n",
       "TXN_DATE_TIME                       object\n",
       "TRANSACTION_ID                      object\n",
       "CUSTOMER_ID                         object\n",
       "POLICY_NUMBER                       object\n",
       "POLICY_EFF_DT               datetime64[ns]\n",
       "LOSS_DT                     datetime64[ns]\n",
       "REPORT_DT                   datetime64[ns]\n",
       "INSURANCE_TYPE                      object\n",
       "PREMIUM_AMOUNT                     float64\n",
       "CLAIM_AMOUNT                         int64\n",
       "CUSTOMER_NAME                       object\n",
       "ADDRESS_LINE1_x                     object\n",
       "ADDRESS_LINE2_x                     object\n",
       "CITY_x                              object\n",
       "STATE_x                             object\n",
       "POSTAL_CODE_x                        int64\n",
       "SSN                                 object\n",
       "MARITAL_STATUS                      object\n",
       "AGE                                  int64\n",
       "TENURE                               int64\n",
       "EMPLOYMENT_STATUS                   object\n",
       "NO_OF_FAMILY_MEMBERS                 int64\n",
       "RISK_SEGMENTATION                   object\n",
       "HOUSE_TYPE                          object\n",
       "SOCIAL_CLASS                        object\n",
       "ROUTING_NUMBER                       int64\n",
       "ACCT_NUMBER                         object\n",
       "CUSTOMER_EDUCATION_LEVEL            object\n",
       "CLAIM_STATUS                        object\n",
       "INCIDENT_SEVERITY                   object\n",
       "AUTHORITY_CONTACTED                 object\n",
       "ANY_INJURY                           int64\n",
       "POLICE_REPORT_AVAILABLE              int64\n",
       "INCIDENT_STATE                      object\n",
       "INCIDENT_CITY                       object\n",
       "INCIDENT_HOUR_OF_THE_DAY             int64\n",
       "AGENT_ID                            object\n",
       "VENDOR_ID                           object\n",
       "AGENT_NAME                          object\n",
       "DATE_OF_JOINING                     object\n",
       "ADDRESS_LINE1_y                     object\n",
       "ADDRESS_LINE2_y                     object\n",
       "CITY_y                              object\n",
       "STATE_y                             object\n",
       "POSTAL_CODE_y                        int64\n",
       "EMP_ROUTING_NUMBER                   int64\n",
       "EMP_ACCT_NUMBER                     object\n",
       "VENDOR_NAME                         object\n",
       "ADDRESS_LINE1                       object\n",
       "ADDRESS_LINE2                       object\n",
       "CITY                                object\n",
       "STATE                               object\n",
       "POSTAL_CODE                        float64\n",
       "30_day_back                 datetime64[ns]\n",
       "dtype: object"
      ]
     },
     "execution_count": 13,
     "metadata": {},
     "output_type": "execute_result"
    }
   ],
   "source": [
    "df_final.dtypes"
   ]
  },
  {
   "cell_type": "markdown",
   "id": "5aaa8ab9",
   "metadata": {},
   "source": [
    "# Task 2"
   ]
  },
  {
   "cell_type": "markdown",
   "id": "ed2a4e21",
   "metadata": {},
   "source": [
    "## top 3 Insurance Type where we are gettingmost insurance claims"
   ]
  },
  {
   "cell_type": "code",
   "execution_count": 14,
   "id": "75c4c966",
   "metadata": {},
   "outputs": [
    {
     "data": {
      "text/html": [
       "<div>\n",
       "<style scoped>\n",
       "    .dataframe tbody tr th:only-of-type {\n",
       "        vertical-align: middle;\n",
       "    }\n",
       "\n",
       "    .dataframe tbody tr th {\n",
       "        vertical-align: top;\n",
       "    }\n",
       "\n",
       "    .dataframe thead th {\n",
       "        text-align: right;\n",
       "    }\n",
       "</style>\n",
       "<table border=\"1\" class=\"dataframe\">\n",
       "  <thead>\n",
       "    <tr style=\"text-align: right;\">\n",
       "      <th></th>\n",
       "      <th>INSURANCE_TYPE</th>\n",
       "      <th>Total</th>\n",
       "    </tr>\n",
       "  </thead>\n",
       "  <tbody>\n",
       "    <tr>\n",
       "      <th>0</th>\n",
       "      <td>Mobile</td>\n",
       "      <td>1692</td>\n",
       "    </tr>\n",
       "    <tr>\n",
       "      <th>1</th>\n",
       "      <td>Property</td>\n",
       "      <td>1692</td>\n",
       "    </tr>\n",
       "    <tr>\n",
       "      <th>2</th>\n",
       "      <td>Health</td>\n",
       "      <td>1690</td>\n",
       "    </tr>\n",
       "  </tbody>\n",
       "</table>\n",
       "</div>"
      ],
      "text/plain": [
       "  INSURANCE_TYPE  Total\n",
       "0         Mobile   1692\n",
       "1       Property   1692\n",
       "2         Health   1690"
      ]
     },
     "execution_count": 14,
     "metadata": {},
     "output_type": "execute_result"
    }
   ],
   "source": [
    "# top 3 Insurace type acc to claim size\n",
    "df_final.groupby('INSURANCE_TYPE').agg('size').reset_index(name=\"Total\").sort_values(by =\"Total\", ascending= False).reset_index(drop=True).iloc[0:3]\n"
   ]
  },
  {
   "cell_type": "markdown",
   "id": "723ff91e",
   "metadata": {},
   "source": [
    "# task3 "
   ]
  },
  {
   "cell_type": "markdown",
   "id": "2b27f735",
   "metadata": {},
   "source": [
    "## Business Leader wants to find Top 5 States where we are getting most insurance claimsfor customer belonging to HIGH(H) risk segment?"
   ]
  },
  {
   "cell_type": "code",
   "execution_count": 15,
   "id": "6748f109",
   "metadata": {},
   "outputs": [
    {
     "data": {
      "text/plain": [
       "array(['L', 'M', 'H'], dtype=object)"
      ]
     },
     "execution_count": 15,
     "metadata": {},
     "output_type": "execute_result"
    }
   ],
   "source": [
    "# Getting all the values in risk column H = High, M = Medium, L = low\n",
    "df_final['RISK_SEGMENTATION'].unique()"
   ]
  },
  {
   "cell_type": "code",
   "execution_count": 16,
   "id": "e2e4cc45",
   "metadata": {},
   "outputs": [],
   "source": [
    "# Getting the required query in new data frame\n",
    "df_1=df_final[df_final['RISK_SEGMENTATION'] == 'H'].groupby('STATE_x').size().reset_index(name='Total').sort_values(by='Total', ascending=False).reset_index(drop=True)"
   ]
  },
  {
   "cell_type": "code",
   "execution_count": 17,
   "id": "03fb0ec9",
   "metadata": {},
   "outputs": [],
   "source": [
    "df_1.index +=1   # starting the index with 1 "
   ]
  },
  {
   "cell_type": "markdown",
   "id": "a1324049",
   "metadata": {},
   "source": [
    "## Task 3 Result"
   ]
  },
  {
   "cell_type": "code",
   "execution_count": 18,
   "id": "25be7c53",
   "metadata": {},
   "outputs": [
    {
     "data": {
      "text/plain": [
       "<AxesSubplot:xlabel='STATE_x'>"
      ]
     },
     "execution_count": 18,
     "metadata": {},
     "output_type": "execute_result"
    },
    {
     "data": {
      "image/png": "[encoded data removed]",
      "text/plain": [
       "<Figure size 432x288 with 1 Axes>"
      ]
     },
     "metadata": {
      "needs_background": "light"
     },
     "output_type": "display_data"
    }
   ],
   "source": [
    "df_1.iloc[:5].plot(x='STATE_x',y='Total',kind='bar')"
   ]
  },
  {
   "cell_type": "code",
   "execution_count": 19,
   "id": "70626339",
   "metadata": {},
   "outputs": [
    {
     "data": {
      "text/html": [
       "<div>\n",
       "<style scoped>\n",
       "    .dataframe tbody tr th:only-of-type {\n",
       "        vertical-align: middle;\n",
       "    }\n",
       "\n",
       "    .dataframe tbody tr th {\n",
       "        vertical-align: top;\n",
       "    }\n",
       "\n",
       "    .dataframe thead th {\n",
       "        text-align: right;\n",
       "    }\n",
       "</style>\n",
       "<table border=\"1\" class=\"dataframe\">\n",
       "  <thead>\n",
       "    <tr style=\"text-align: right;\">\n",
       "      <th></th>\n",
       "      <th>STATE_x</th>\n",
       "      <th>Total</th>\n",
       "    </tr>\n",
       "  </thead>\n",
       "  <tbody>\n",
       "    <tr>\n",
       "      <th>1</th>\n",
       "      <td>CA</td>\n",
       "      <td>148</td>\n",
       "    </tr>\n",
       "    <tr>\n",
       "      <th>2</th>\n",
       "      <td>AZ</td>\n",
       "      <td>105</td>\n",
       "    </tr>\n",
       "    <tr>\n",
       "      <th>3</th>\n",
       "      <td>FL</td>\n",
       "      <td>104</td>\n",
       "    </tr>\n",
       "    <tr>\n",
       "      <th>4</th>\n",
       "      <td>TN</td>\n",
       "      <td>100</td>\n",
       "    </tr>\n",
       "    <tr>\n",
       "      <th>5</th>\n",
       "      <td>AR</td>\n",
       "      <td>97</td>\n",
       "    </tr>\n",
       "  </tbody>\n",
       "</table>\n",
       "</div>"
      ],
      "text/plain": [
       "  STATE_x  Total\n",
       "1      CA    148\n",
       "2      AZ    105\n",
       "3      FL    104\n",
       "4      TN    100\n",
       "5      AR     97"
      ]
     },
     "execution_count": 19,
     "metadata": {},
     "output_type": "execute_result"
    }
   ],
   "source": [
    "# Top 5 states\n",
    "df_1.head(5)"
   ]
  },
  {
   "cell_type": "markdown",
   "id": "733d06bd",
   "metadata": {},
   "source": [
    "# Task 4"
   ]
  },
  {
   "cell_type": "markdown",
   "id": "595e7ed0",
   "metadata": {},
   "source": [
    "Business wants to create a new variable “COLOCATION” which will have following values IF\n",
    "Customer State == Incident State == Agent Address State THEN 1 ELSE 0\n",
    "Find the mean of this new column"
   ]
  },
  {
   "cell_type": "code",
   "execution_count": 20,
   "id": "bf008813",
   "metadata": {},
   "outputs": [],
   "source": [
    "# Creating the new column with boolen values True or False\n",
    "df_final['COLOCATION'] = df_final.apply(lambda x: x.STATE_x == x.INCIDENT_STATE == x.STATE_y, axis = 1)"
   ]
  },
  {
   "cell_type": "code",
   "execution_count": 21,
   "id": "fe95ed5f",
   "metadata": {},
   "outputs": [],
   "source": [
    "# Changing the Boolen Vales to int type  either 1 or 0\n",
    "df_final['COLOCATION']=df_final['COLOCATION'].apply(lambda x: 1 if x==True else 0)"
   ]
  },
  {
   "cell_type": "markdown",
   "id": "a8cbad47",
   "metadata": {},
   "source": [
    "## Task 4 Result"
   ]
  },
  {
   "cell_type": "code",
   "execution_count": 22,
   "id": "e28a5856",
   "metadata": {},
   "outputs": [
    {
     "data": {
      "text/html": [
       "<div>\n",
       "<style scoped>\n",
       "    .dataframe tbody tr th:only-of-type {\n",
       "        vertical-align: middle;\n",
       "    }\n",
       "\n",
       "    .dataframe tbody tr th {\n",
       "        vertical-align: top;\n",
       "    }\n",
       "\n",
       "    .dataframe thead th {\n",
       "        text-align: right;\n",
       "    }\n",
       "</style>\n",
       "<table border=\"1\" class=\"dataframe\">\n",
       "  <thead>\n",
       "    <tr style=\"text-align: right;\">\n",
       "      <th></th>\n",
       "      <th>CUSTOMER_ID</th>\n",
       "      <th>COLOCATION</th>\n",
       "    </tr>\n",
       "  </thead>\n",
       "  <tbody>\n",
       "    <tr>\n",
       "      <th>0</th>\n",
       "      <td>A00003822</td>\n",
       "      <td>0</td>\n",
       "    </tr>\n",
       "    <tr>\n",
       "      <th>1</th>\n",
       "      <td>A00008149</td>\n",
       "      <td>0</td>\n",
       "    </tr>\n",
       "    <tr>\n",
       "      <th>2</th>\n",
       "      <td>A00003172</td>\n",
       "      <td>0</td>\n",
       "    </tr>\n",
       "    <tr>\n",
       "      <th>3</th>\n",
       "      <td>A00007572</td>\n",
       "      <td>0</td>\n",
       "    </tr>\n",
       "  </tbody>\n",
       "</table>\n",
       "</div>"
      ],
      "text/plain": [
       "  CUSTOMER_ID  COLOCATION\n",
       "0   A00003822           0\n",
       "1   A00008149           0\n",
       "2   A00003172           0\n",
       "3   A00007572           0"
      ]
     },
     "execution_count": 22,
     "metadata": {},
     "output_type": "execute_result"
    }
   ],
   "source": [
    "df_final[['CUSTOMER_ID','COLOCATION']].head(4)"
   ]
  },
  {
   "cell_type": "code",
   "execution_count": 23,
   "id": "0565c15d",
   "metadata": {},
   "outputs": [
    {
     "data": {
      "text/plain": [
       "COLOCATION\n",
       "0    9956\n",
       "1      44\n",
       "dtype: int64"
      ]
     },
     "execution_count": 23,
     "metadata": {},
     "output_type": "execute_result"
    }
   ],
   "source": [
    "# Total No of 0 and 1 in 'COLOCATION' feature\n",
    "df_final.groupby('COLOCATION').size()"
   ]
  },
  {
   "cell_type": "code",
   "execution_count": 24,
   "id": "4cec46a4",
   "metadata": {},
   "outputs": [
    {
     "data": {
      "text/plain": [
       "0.0044"
      ]
     },
     "execution_count": 24,
     "metadata": {},
     "output_type": "execute_result"
    }
   ],
   "source": [
    "# finding mean of Column 'COLOCATION'\n",
    "df_final['COLOCATION'].mean()"
   ]
  },
  {
   "cell_type": "markdown",
   "id": "0c1729ed",
   "metadata": {},
   "source": [
    "# task 5 \n",
    "Data entry error was detected in the data and you are required to correct it. If for any\n",
    "claim transaction “AUTHORITY_CONTACTED” is NOT “Police” and POLICE_AVAILABLE == 1\n",
    "Then Update “AUTHORITY_CONTACTED” to Police."
   ]
  },
  {
   "cell_type": "code",
   "execution_count": 25,
   "id": "e0828498",
   "metadata": {},
   "outputs": [
    {
     "data": {
      "text/html": [
       "<div>\n",
       "<style scoped>\n",
       "    .dataframe tbody tr th:only-of-type {\n",
       "        vertical-align: middle;\n",
       "    }\n",
       "\n",
       "    .dataframe tbody tr th {\n",
       "        vertical-align: top;\n",
       "    }\n",
       "\n",
       "    .dataframe thead th {\n",
       "        text-align: right;\n",
       "    }\n",
       "</style>\n",
       "<table border=\"1\" class=\"dataframe\">\n",
       "  <thead>\n",
       "    <tr style=\"text-align: right;\">\n",
       "      <th></th>\n",
       "      <th>AUTHORITY_CONTACTED</th>\n",
       "      <th>POLICE_REPORT_AVAILABLE</th>\n",
       "    </tr>\n",
       "  </thead>\n",
       "  <tbody>\n",
       "    <tr>\n",
       "      <th>5</th>\n",
       "      <td>Ambulance</td>\n",
       "      <td>1</td>\n",
       "    </tr>\n",
       "    <tr>\n",
       "      <th>10</th>\n",
       "      <td>Ambulance</td>\n",
       "      <td>1</td>\n",
       "    </tr>\n",
       "    <tr>\n",
       "      <th>11</th>\n",
       "      <td>Ambulance</td>\n",
       "      <td>1</td>\n",
       "    </tr>\n",
       "    <tr>\n",
       "      <th>12</th>\n",
       "      <td>None</td>\n",
       "      <td>1</td>\n",
       "    </tr>\n",
       "    <tr>\n",
       "      <th>16</th>\n",
       "      <td>Other</td>\n",
       "      <td>1</td>\n",
       "    </tr>\n",
       "    <tr>\n",
       "      <th>...</th>\n",
       "      <td>...</td>\n",
       "      <td>...</td>\n",
       "    </tr>\n",
       "    <tr>\n",
       "      <th>9991</th>\n",
       "      <td>None</td>\n",
       "      <td>1</td>\n",
       "    </tr>\n",
       "    <tr>\n",
       "      <th>9993</th>\n",
       "      <td>Ambulance</td>\n",
       "      <td>1</td>\n",
       "    </tr>\n",
       "    <tr>\n",
       "      <th>9995</th>\n",
       "      <td>Ambulance</td>\n",
       "      <td>1</td>\n",
       "    </tr>\n",
       "    <tr>\n",
       "      <th>9997</th>\n",
       "      <td>None</td>\n",
       "      <td>1</td>\n",
       "    </tr>\n",
       "    <tr>\n",
       "      <th>9998</th>\n",
       "      <td>Ambulance</td>\n",
       "      <td>1</td>\n",
       "    </tr>\n",
       "  </tbody>\n",
       "</table>\n",
       "<p>4870 rows × 2 columns</p>\n",
       "</div>"
      ],
      "text/plain": [
       "     AUTHORITY_CONTACTED  POLICE_REPORT_AVAILABLE\n",
       "5              Ambulance                        1\n",
       "10             Ambulance                        1\n",
       "11             Ambulance                        1\n",
       "12                  None                        1\n",
       "16                 Other                        1\n",
       "...                  ...                      ...\n",
       "9991                None                        1\n",
       "9993           Ambulance                        1\n",
       "9995           Ambulance                        1\n",
       "9997                None                        1\n",
       "9998           Ambulance                        1\n",
       "\n",
       "[4870 rows x 2 columns]"
      ]
     },
     "execution_count": 25,
     "metadata": {},
     "output_type": "execute_result"
    }
   ],
   "source": [
    "# View at the data having error\n",
    "df_final[(df_final['AUTHORITY_CONTACTED']!='Police') & (df_final['POLICE_REPORT_AVAILABLE']==1)][['AUTHORITY_CONTACTED','POLICE_REPORT_AVAILABLE']]"
   ]
  },
  {
   "cell_type": "code",
   "execution_count": 26,
   "id": "efb9f150",
   "metadata": {},
   "outputs": [],
   "source": [
    "# updating the data with correction\n",
    "df_final.loc[(df_final['AUTHORITY_CONTACTED']!='Police') & (df_final['POLICE_REPORT_AVAILABLE']==1),'AUTHORITY_CONTACTED'] =\"Police\""
   ]
  },
  {
   "cell_type": "code",
   "execution_count": 83,
   "id": "5a28bc70",
   "metadata": {},
   "outputs": [],
   "source": [
    "## Task 5 Result"
   ]
  },
  {
   "cell_type": "code",
   "execution_count": 27,
   "id": "0b378b27",
   "metadata": {},
   "outputs": [
    {
     "data": {
      "text/html": [
       "<div>\n",
       "<style scoped>\n",
       "    .dataframe tbody tr th:only-of-type {\n",
       "        vertical-align: middle;\n",
       "    }\n",
       "\n",
       "    .dataframe tbody tr th {\n",
       "        vertical-align: top;\n",
       "    }\n",
       "\n",
       "    .dataframe thead th {\n",
       "        text-align: right;\n",
       "    }\n",
       "</style>\n",
       "<table border=\"1\" class=\"dataframe\">\n",
       "  <thead>\n",
       "    <tr style=\"text-align: right;\">\n",
       "      <th></th>\n",
       "      <th>AUTHORITY_CONTACTED</th>\n",
       "      <th>POLICE_REPORT_AVAILABLE</th>\n",
       "    </tr>\n",
       "  </thead>\n",
       "  <tbody>\n",
       "  </tbody>\n",
       "</table>\n",
       "</div>"
      ],
      "text/plain": [
       "Empty DataFrame\n",
       "Columns: [AUTHORITY_CONTACTED, POLICE_REPORT_AVAILABLE]\n",
       "Index: []"
      ]
     },
     "execution_count": 27,
     "metadata": {},
     "output_type": "execute_result"
    }
   ],
   "source": [
    "# Reverifing the data for error, No output confirms for not having any error\n",
    "df_final[(df_final['AUTHORITY_CONTACTED']!='Police') & (df_final['POLICE_REPORT_AVAILABLE']==1)][['AUTHORITY_CONTACTED','POLICE_REPORT_AVAILABLE']]"
   ]
  },
  {
   "cell_type": "markdown",
   "id": "0e02d296",
   "metadata": {},
   "source": [
    "## Task 6\n",
    "Business wants to check the Claim Amount for deviation for each transaction, they would\n",
    "like you to calculate as follow\n",
    "CLAIM_DEVIATION = AVG_CLAIM_AMOUNT_FOR_LAST_30DAYS (same insurance type)\n",
    "/ CURRENT_CLAIM_AMOUNT\n",
    "If the value < 0.5 THEN CLAIM_DEVIATION = 1 ELSE 0\n",
    "If there is less than 30 days of transaction history THEN\n",
    "-1 Note: LAST_30DAYS does not include current day"
   ]
  },
  {
   "cell_type": "code",
   "execution_count": 28,
   "id": "3c22da17",
   "metadata": {},
   "outputs": [
    {
     "data": {
      "text/html": [
       "<div>\n",
       "<style scoped>\n",
       "    .dataframe tbody tr th:only-of-type {\n",
       "        vertical-align: middle;\n",
       "    }\n",
       "\n",
       "    .dataframe tbody tr th {\n",
       "        vertical-align: top;\n",
       "    }\n",
       "\n",
       "    .dataframe thead th {\n",
       "        text-align: right;\n",
       "    }\n",
       "</style>\n",
       "<table border=\"1\" class=\"dataframe\">\n",
       "  <thead>\n",
       "    <tr style=\"text-align: right;\">\n",
       "      <th></th>\n",
       "      <th>index</th>\n",
       "      <th>TRANSACTION_ID</th>\n",
       "      <th>CUSTOMER_ID</th>\n",
       "      <th>INSURANCE_TYPE</th>\n",
       "      <th>LOSS_DT</th>\n",
       "      <th>CLAIM_AMOUNT</th>\n",
       "      <th>30_day_back</th>\n",
       "    </tr>\n",
       "  </thead>\n",
       "  <tbody>\n",
       "    <tr>\n",
       "      <th>0</th>\n",
       "      <td>0</td>\n",
       "      <td>TXN00000001</td>\n",
       "      <td>A00003822</td>\n",
       "      <td>Health</td>\n",
       "      <td>2020-05-16</td>\n",
       "      <td>9000</td>\n",
       "      <td>2020-04-15</td>\n",
       "    </tr>\n",
       "    <tr>\n",
       "      <th>1</th>\n",
       "      <td>1</td>\n",
       "      <td>TXN00000002</td>\n",
       "      <td>A00008149</td>\n",
       "      <td>Property</td>\n",
       "      <td>2020-05-13</td>\n",
       "      <td>26000</td>\n",
       "      <td>2020-04-12</td>\n",
       "    </tr>\n",
       "    <tr>\n",
       "      <th>2</th>\n",
       "      <td>2</td>\n",
       "      <td>TXN00000003</td>\n",
       "      <td>A00003172</td>\n",
       "      <td>Property</td>\n",
       "      <td>2020-05-21</td>\n",
       "      <td>13000</td>\n",
       "      <td>2020-04-20</td>\n",
       "    </tr>\n",
       "    <tr>\n",
       "      <th>3</th>\n",
       "      <td>3</td>\n",
       "      <td>TXN00000004</td>\n",
       "      <td>A00007572</td>\n",
       "      <td>Health</td>\n",
       "      <td>2020-05-14</td>\n",
       "      <td>16000</td>\n",
       "      <td>2020-04-13</td>\n",
       "    </tr>\n",
       "  </tbody>\n",
       "</table>\n",
       "</div>"
      ],
      "text/plain": [
       "   index TRANSACTION_ID CUSTOMER_ID INSURANCE_TYPE    LOSS_DT  CLAIM_AMOUNT  \\\n",
       "0      0    TXN00000001   A00003822         Health 2020-05-16          9000   \n",
       "1      1    TXN00000002   A00008149       Property 2020-05-13         26000   \n",
       "2      2    TXN00000003   A00003172       Property 2020-05-21         13000   \n",
       "3      3    TXN00000004   A00007572         Health 2020-05-14         16000   \n",
       "\n",
       "  30_day_back  \n",
       "0  2020-04-15  \n",
       "1  2020-04-12  \n",
       "2  2020-04-20  \n",
       "3  2020-04-13  "
      ]
     },
     "execution_count": 28,
     "metadata": {},
     "output_type": "execute_result"
    }
   ],
   "source": [
    "temp=df_final[['TRANSACTION_ID','CUSTOMER_ID','INSURANCE_TYPE','LOSS_DT','CLAIM_AMOUNT','30_day_back']]\n",
    "temp.reset_index(inplace=True)\n",
    "temp.head(4)"
   ]
  },
  {
   "cell_type": "code",
   "execution_count": 29,
   "id": "441c7c85",
   "metadata": {},
   "outputs": [],
   "source": [
    "# function acc to the condition\n",
    "def CLAIM_DEVIATION_Calc(x):\n",
    "    temp_df= temp.loc[(temp['LOSS_DT']<=temp['LOSS_DT'].iloc[temp.index[x]])  & (temp['LOSS_DT']>=temp['30_day_back'].iloc[temp.index[x]])]\n",
    "    if temp_df.shape[0] == 30:\n",
    "        avg = temp_df[temp_df['INSURANCE_TYPE']==temp['INSURANCE_TYPE'].iloc[temp.index[x]]]['CLAIM_AMOUNT'].mean()\n",
    "        avg=avg/temp['CLAIM_AMOUNT'].iloc[temp.index[x]]\n",
    "        if avg<0.5:\n",
    "            return 1\n",
    "        else:\n",
    "            return 0\n",
    "    elif temp_df.shape[0] > 30:\n",
    "        temp_df=temp_df.iloc[0:30]\n",
    "        avg = temp_df[temp_df['INSURANCE_TYPE']==temp['INSURANCE_TYPE'].iloc[temp.index[x]]]['CLAIM_AMOUNT'].mean()\n",
    "        avg=avg/temp['CLAIM_AMOUNT'].iloc[temp.index[x]]\n",
    "        if avg<0.5:\n",
    "            return 1\n",
    "        else:\n",
    "            return 0\n",
    "    else:\n",
    "        return -1\n",
    "    \n",
    "    "
   ]
  },
  {
   "cell_type": "code",
   "execution_count": 30,
   "id": "a1c0f4e3",
   "metadata": {},
   "outputs": [
    {
     "name": "stderr",
     "output_type": "stream",
     "text": [
      "C:\\Users\\skpra\\AppData\\Local\\Temp\\ipykernel_2844\\3108868899.py:2: SettingWithCopyWarning: \n",
      "A value is trying to be set on a copy of a slice from a DataFrame.\n",
      "Try using .loc[row_indexer,col_indexer] = value instead\n",
      "\n",
      "See the caveats in the documentation: https://pandas.pydata.org/pandas-docs/stable/user_guide/indexing.html#returning-a-view-versus-a-copy\n",
      "  temp['CLAIM_DEVIATION'] =temp['index'].apply(CLAIM_DEVIATION_Calc)\n"
     ]
    }
   ],
   "source": [
    "# applying the function\n",
    "temp['CLAIM_DEVIATION'] =temp['index'].apply(CLAIM_DEVIATION_Calc)"
   ]
  },
  {
   "cell_type": "code",
   "execution_count": 31,
   "id": "566df1f8",
   "metadata": {},
   "outputs": [
    {
     "data": {
      "text/html": [
       "<div>\n",
       "<style scoped>\n",
       "    .dataframe tbody tr th:only-of-type {\n",
       "        vertical-align: middle;\n",
       "    }\n",
       "\n",
       "    .dataframe tbody tr th {\n",
       "        vertical-align: top;\n",
       "    }\n",
       "\n",
       "    .dataframe thead th {\n",
       "        text-align: right;\n",
       "    }\n",
       "</style>\n",
       "<table border=\"1\" class=\"dataframe\">\n",
       "  <thead>\n",
       "    <tr style=\"text-align: right;\">\n",
       "      <th></th>\n",
       "      <th>index</th>\n",
       "      <th>TRANSACTION_ID</th>\n",
       "      <th>CUSTOMER_ID</th>\n",
       "      <th>INSURANCE_TYPE</th>\n",
       "      <th>LOSS_DT</th>\n",
       "      <th>CLAIM_AMOUNT</th>\n",
       "      <th>30_day_back</th>\n",
       "      <th>CLAIM_DEVIATION</th>\n",
       "    </tr>\n",
       "  </thead>\n",
       "  <tbody>\n",
       "    <tr>\n",
       "      <th>0</th>\n",
       "      <td>0</td>\n",
       "      <td>TXN00000001</td>\n",
       "      <td>A00003822</td>\n",
       "      <td>Health</td>\n",
       "      <td>2020-05-16</td>\n",
       "      <td>9000</td>\n",
       "      <td>2020-04-15</td>\n",
       "      <td>-1</td>\n",
       "    </tr>\n",
       "    <tr>\n",
       "      <th>1</th>\n",
       "      <td>1</td>\n",
       "      <td>TXN00000002</td>\n",
       "      <td>A00008149</td>\n",
       "      <td>Property</td>\n",
       "      <td>2020-05-13</td>\n",
       "      <td>26000</td>\n",
       "      <td>2020-04-12</td>\n",
       "      <td>-1</td>\n",
       "    </tr>\n",
       "    <tr>\n",
       "      <th>2</th>\n",
       "      <td>2</td>\n",
       "      <td>TXN00000003</td>\n",
       "      <td>A00003172</td>\n",
       "      <td>Property</td>\n",
       "      <td>2020-05-21</td>\n",
       "      <td>13000</td>\n",
       "      <td>2020-04-20</td>\n",
       "      <td>0</td>\n",
       "    </tr>\n",
       "    <tr>\n",
       "      <th>3</th>\n",
       "      <td>3</td>\n",
       "      <td>TXN00000004</td>\n",
       "      <td>A00007572</td>\n",
       "      <td>Health</td>\n",
       "      <td>2020-05-14</td>\n",
       "      <td>16000</td>\n",
       "      <td>2020-04-13</td>\n",
       "      <td>-1</td>\n",
       "    </tr>\n",
       "    <tr>\n",
       "      <th>4</th>\n",
       "      <td>4</td>\n",
       "      <td>TXN00000005</td>\n",
       "      <td>A00008173</td>\n",
       "      <td>Travel</td>\n",
       "      <td>2020-05-17</td>\n",
       "      <td>3000</td>\n",
       "      <td>2020-04-16</td>\n",
       "      <td>0</td>\n",
       "    </tr>\n",
       "    <tr>\n",
       "      <th>...</th>\n",
       "      <td>...</td>\n",
       "      <td>...</td>\n",
       "      <td>...</td>\n",
       "      <td>...</td>\n",
       "      <td>...</td>\n",
       "      <td>...</td>\n",
       "      <td>...</td>\n",
       "      <td>...</td>\n",
       "    </tr>\n",
       "    <tr>\n",
       "      <th>9995</th>\n",
       "      <td>9995</td>\n",
       "      <td>TXN00009996</td>\n",
       "      <td>A00006029</td>\n",
       "      <td>Motor</td>\n",
       "      <td>2021-06-25</td>\n",
       "      <td>1000</td>\n",
       "      <td>2021-05-25</td>\n",
       "      <td>0</td>\n",
       "    </tr>\n",
       "    <tr>\n",
       "      <th>9996</th>\n",
       "      <td>9996</td>\n",
       "      <td>TXN00009997</td>\n",
       "      <td>A00003555</td>\n",
       "      <td>Life</td>\n",
       "      <td>2021-06-12</td>\n",
       "      <td>67000</td>\n",
       "      <td>2021-05-12</td>\n",
       "      <td>0</td>\n",
       "    </tr>\n",
       "    <tr>\n",
       "      <th>9997</th>\n",
       "      <td>9997</td>\n",
       "      <td>TXN00009998</td>\n",
       "      <td>A00004230</td>\n",
       "      <td>Health</td>\n",
       "      <td>2021-06-18</td>\n",
       "      <td>8000</td>\n",
       "      <td>2021-05-18</td>\n",
       "      <td>0</td>\n",
       "    </tr>\n",
       "    <tr>\n",
       "      <th>9998</th>\n",
       "      <td>9998</td>\n",
       "      <td>TXN00009999</td>\n",
       "      <td>A00006694</td>\n",
       "      <td>Motor</td>\n",
       "      <td>2021-06-16</td>\n",
       "      <td>2000</td>\n",
       "      <td>2021-05-16</td>\n",
       "      <td>0</td>\n",
       "    </tr>\n",
       "    <tr>\n",
       "      <th>9999</th>\n",
       "      <td>9999</td>\n",
       "      <td>TXN00010000</td>\n",
       "      <td>A00000390</td>\n",
       "      <td>Mobile</td>\n",
       "      <td>2021-06-21</td>\n",
       "      <td>300</td>\n",
       "      <td>2021-05-21</td>\n",
       "      <td>0</td>\n",
       "    </tr>\n",
       "  </tbody>\n",
       "</table>\n",
       "<p>10000 rows × 8 columns</p>\n",
       "</div>"
      ],
      "text/plain": [
       "      index TRANSACTION_ID CUSTOMER_ID INSURANCE_TYPE    LOSS_DT  \\\n",
       "0         0    TXN00000001   A00003822         Health 2020-05-16   \n",
       "1         1    TXN00000002   A00008149       Property 2020-05-13   \n",
       "2         2    TXN00000003   A00003172       Property 2020-05-21   \n",
       "3         3    TXN00000004   A00007572         Health 2020-05-14   \n",
       "4         4    TXN00000005   A00008173         Travel 2020-05-17   \n",
       "...     ...            ...         ...            ...        ...   \n",
       "9995   9995    TXN00009996   A00006029          Motor 2021-06-25   \n",
       "9996   9996    TXN00009997   A00003555           Life 2021-06-12   \n",
       "9997   9997    TXN00009998   A00004230         Health 2021-06-18   \n",
       "9998   9998    TXN00009999   A00006694          Motor 2021-06-16   \n",
       "9999   9999    TXN00010000   A00000390         Mobile 2021-06-21   \n",
       "\n",
       "      CLAIM_AMOUNT 30_day_back  CLAIM_DEVIATION  \n",
       "0             9000  2020-04-15               -1  \n",
       "1            26000  2020-04-12               -1  \n",
       "2            13000  2020-04-20                0  \n",
       "3            16000  2020-04-13               -1  \n",
       "4             3000  2020-04-16                0  \n",
       "...            ...         ...              ...  \n",
       "9995          1000  2021-05-25                0  \n",
       "9996         67000  2021-05-12                0  \n",
       "9997          8000  2021-05-18                0  \n",
       "9998          2000  2021-05-16                0  \n",
       "9999           300  2021-05-21                0  \n",
       "\n",
       "[10000 rows x 8 columns]"
      ]
     },
     "execution_count": 31,
     "metadata": {},
     "output_type": "execute_result"
    }
   ],
   "source": [
    "temp"
   ]
  },
  {
   "cell_type": "code",
   "execution_count": 32,
   "id": "356e7c8a",
   "metadata": {},
   "outputs": [
    {
     "data": {
      "text/plain": [
       "array([-1,  0,  1], dtype=int64)"
      ]
     },
     "execution_count": 32,
     "metadata": {},
     "output_type": "execute_result"
    }
   ],
   "source": [
    "# checking for all the values\n",
    "temp['CLAIM_DEVIATION'].unique()"
   ]
  },
  {
   "cell_type": "code",
   "execution_count": 33,
   "id": "f4f6515a",
   "metadata": {},
   "outputs": [
    {
     "name": "stderr",
     "output_type": "stream",
     "text": [
      "C:\\Users\\skpra\\AppData\\Local\\Temp\\ipykernel_2844\\561800998.py:2: SettingWithCopyWarning: \n",
      "A value is trying to be set on a copy of a slice from a DataFrame\n",
      "\n",
      "See the caveats in the documentation: https://pandas.pydata.org/pandas-docs/stable/user_guide/indexing.html#returning-a-view-versus-a-copy\n",
      "  temp.drop(['index','CUSTOMER_ID','INSURANCE_TYPE','LOSS_DT','CLAIM_AMOUNT','30_day_back'],inplace=True,axis=1)\n"
     ]
    }
   ],
   "source": [
    "# dropping unnessasary columns\n",
    "temp.drop(['index','CUSTOMER_ID','INSURANCE_TYPE','LOSS_DT','CLAIM_AMOUNT','30_day_back'],inplace=True,axis=1)"
   ]
  },
  {
   "cell_type": "code",
   "execution_count": 34,
   "id": "c81bfd44",
   "metadata": {},
   "outputs": [
    {
     "data": {
      "text/html": [
       "<div>\n",
       "<style scoped>\n",
       "    .dataframe tbody tr th:only-of-type {\n",
       "        vertical-align: middle;\n",
       "    }\n",
       "\n",
       "    .dataframe tbody tr th {\n",
       "        vertical-align: top;\n",
       "    }\n",
       "\n",
       "    .dataframe thead th {\n",
       "        text-align: right;\n",
       "    }\n",
       "</style>\n",
       "<table border=\"1\" class=\"dataframe\">\n",
       "  <thead>\n",
       "    <tr style=\"text-align: right;\">\n",
       "      <th></th>\n",
       "      <th>TRANSACTION_ID</th>\n",
       "      <th>CLAIM_DEVIATION</th>\n",
       "    </tr>\n",
       "  </thead>\n",
       "  <tbody>\n",
       "    <tr>\n",
       "      <th>0</th>\n",
       "      <td>TXN00000001</td>\n",
       "      <td>-1</td>\n",
       "    </tr>\n",
       "    <tr>\n",
       "      <th>1</th>\n",
       "      <td>TXN00000002</td>\n",
       "      <td>-1</td>\n",
       "    </tr>\n",
       "    <tr>\n",
       "      <th>2</th>\n",
       "      <td>TXN00000003</td>\n",
       "      <td>0</td>\n",
       "    </tr>\n",
       "    <tr>\n",
       "      <th>3</th>\n",
       "      <td>TXN00000004</td>\n",
       "      <td>-1</td>\n",
       "    </tr>\n",
       "    <tr>\n",
       "      <th>4</th>\n",
       "      <td>TXN00000005</td>\n",
       "      <td>0</td>\n",
       "    </tr>\n",
       "  </tbody>\n",
       "</table>\n",
       "</div>"
      ],
      "text/plain": [
       "  TRANSACTION_ID  CLAIM_DEVIATION\n",
       "0    TXN00000001               -1\n",
       "1    TXN00000002               -1\n",
       "2    TXN00000003                0\n",
       "3    TXN00000004               -1\n",
       "4    TXN00000005                0"
      ]
     },
     "execution_count": 34,
     "metadata": {},
     "output_type": "execute_result"
    }
   ],
   "source": [
    "temp.head(5)"
   ]
  },
  {
   "cell_type": "code",
   "execution_count": 35,
   "id": "c893f232",
   "metadata": {},
   "outputs": [],
   "source": [
    "# merging the dataframe into df_final\n",
    "df_final= pd.merge(df_final,temp, on='TRANSACTION_ID', how='left')"
   ]
  },
  {
   "cell_type": "code",
   "execution_count": 36,
   "id": "d83989ad",
   "metadata": {},
   "outputs": [
    {
     "data": {
      "text/html": [
       "<div>\n",
       "<style scoped>\n",
       "    .dataframe tbody tr th:only-of-type {\n",
       "        vertical-align: middle;\n",
       "    }\n",
       "\n",
       "    .dataframe tbody tr th {\n",
       "        vertical-align: top;\n",
       "    }\n",
       "\n",
       "    .dataframe thead th {\n",
       "        text-align: right;\n",
       "    }\n",
       "</style>\n",
       "<table border=\"1\" class=\"dataframe\">\n",
       "  <thead>\n",
       "    <tr style=\"text-align: right;\">\n",
       "      <th></th>\n",
       "      <th>index</th>\n",
       "      <th>TXN_DATE_TIME</th>\n",
       "      <th>TRANSACTION_ID</th>\n",
       "      <th>CUSTOMER_ID</th>\n",
       "      <th>POLICY_NUMBER</th>\n",
       "      <th>POLICY_EFF_DT</th>\n",
       "      <th>LOSS_DT</th>\n",
       "      <th>REPORT_DT</th>\n",
       "      <th>INSURANCE_TYPE</th>\n",
       "      <th>PREMIUM_AMOUNT</th>\n",
       "      <th>...</th>\n",
       "      <th>EMP_ACCT_NUMBER</th>\n",
       "      <th>VENDOR_NAME</th>\n",
       "      <th>ADDRESS_LINE1</th>\n",
       "      <th>ADDRESS_LINE2</th>\n",
       "      <th>CITY</th>\n",
       "      <th>STATE</th>\n",
       "      <th>POSTAL_CODE</th>\n",
       "      <th>30_day_back</th>\n",
       "      <th>COLOCATION</th>\n",
       "      <th>CLAIM_DEVIATION</th>\n",
       "    </tr>\n",
       "  </thead>\n",
       "  <tbody>\n",
       "    <tr>\n",
       "      <th>0</th>\n",
       "      <td>0</td>\n",
       "      <td>2020-06-01 00:00:00</td>\n",
       "      <td>TXN00000001</td>\n",
       "      <td>A00003822</td>\n",
       "      <td>PLC00008468</td>\n",
       "      <td>2015-06-23</td>\n",
       "      <td>2020-05-16</td>\n",
       "      <td>2020-05-21</td>\n",
       "      <td>Health</td>\n",
       "      <td>157.13</td>\n",
       "      <td>...</td>\n",
       "      <td>LRZO53254369804934</td>\n",
       "      <td>Ramsey Inc</td>\n",
       "      <td>3114 West 20th Court</td>\n",
       "      <td>NaN</td>\n",
       "      <td>Panama City</td>\n",
       "      <td>FL</td>\n",
       "      <td>32405.0</td>\n",
       "      <td>2020-04-15</td>\n",
       "      <td>0</td>\n",
       "      <td>-1</td>\n",
       "    </tr>\n",
       "    <tr>\n",
       "      <th>1</th>\n",
       "      <td>1</td>\n",
       "      <td>2020-06-01 00:00:00</td>\n",
       "      <td>TXN00000002</td>\n",
       "      <td>A00008149</td>\n",
       "      <td>PLC00009594</td>\n",
       "      <td>2018-04-21</td>\n",
       "      <td>2020-05-13</td>\n",
       "      <td>2020-05-18</td>\n",
       "      <td>Property</td>\n",
       "      <td>141.71</td>\n",
       "      <td>...</td>\n",
       "      <td>XBYG14382904542874</td>\n",
       "      <td>Morales, Campbell and Washington</td>\n",
       "      <td>42 West Louise Street</td>\n",
       "      <td>B</td>\n",
       "      <td>Fayetteville</td>\n",
       "      <td>AR</td>\n",
       "      <td>72701.0</td>\n",
       "      <td>2020-04-12</td>\n",
       "      <td>0</td>\n",
       "      <td>-1</td>\n",
       "    </tr>\n",
       "    <tr>\n",
       "      <th>2</th>\n",
       "      <td>2</td>\n",
       "      <td>2020-06-01 00:00:00</td>\n",
       "      <td>TXN00000003</td>\n",
       "      <td>A00003172</td>\n",
       "      <td>PLC00007969</td>\n",
       "      <td>2019-10-03</td>\n",
       "      <td>2020-05-21</td>\n",
       "      <td>2020-05-26</td>\n",
       "      <td>Property</td>\n",
       "      <td>157.24</td>\n",
       "      <td>...</td>\n",
       "      <td>WRXH14597428306333</td>\n",
       "      <td>Johnson Ltd</td>\n",
       "      <td>2619 North Quality Lane</td>\n",
       "      <td>#315</td>\n",
       "      <td>Fayetteville</td>\n",
       "      <td>AR</td>\n",
       "      <td>72703.0</td>\n",
       "      <td>2020-04-20</td>\n",
       "      <td>0</td>\n",
       "      <td>0</td>\n",
       "    </tr>\n",
       "  </tbody>\n",
       "</table>\n",
       "<p>3 rows × 57 columns</p>\n",
       "</div>"
      ],
      "text/plain": [
       "   index        TXN_DATE_TIME TRANSACTION_ID CUSTOMER_ID POLICY_NUMBER  \\\n",
       "0      0  2020-06-01 00:00:00    TXN00000001   A00003822   PLC00008468   \n",
       "1      1  2020-06-01 00:00:00    TXN00000002   A00008149   PLC00009594   \n",
       "2      2  2020-06-01 00:00:00    TXN00000003   A00003172   PLC00007969   \n",
       "\n",
       "  POLICY_EFF_DT    LOSS_DT  REPORT_DT INSURANCE_TYPE  PREMIUM_AMOUNT  ...  \\\n",
       "0    2015-06-23 2020-05-16 2020-05-21         Health          157.13  ...   \n",
       "1    2018-04-21 2020-05-13 2020-05-18       Property          141.71  ...   \n",
       "2    2019-10-03 2020-05-21 2020-05-26       Property          157.24  ...   \n",
       "\n",
       "      EMP_ACCT_NUMBER                       VENDOR_NAME  \\\n",
       "0  LRZO53254369804934                        Ramsey Inc   \n",
       "1  XBYG14382904542874  Morales, Campbell and Washington   \n",
       "2  WRXH14597428306333                       Johnson Ltd   \n",
       "\n",
       "             ADDRESS_LINE1 ADDRESS_LINE2          CITY STATE  POSTAL_CODE  \\\n",
       "0     3114 West 20th Court           NaN   Panama City    FL      32405.0   \n",
       "1    42 West Louise Street             B  Fayetteville    AR      72701.0   \n",
       "2  2619 North Quality Lane          #315  Fayetteville    AR      72703.0   \n",
       "\n",
       "  30_day_back COLOCATION  CLAIM_DEVIATION  \n",
       "0  2020-04-15          0               -1  \n",
       "1  2020-04-12          0               -1  \n",
       "2  2020-04-20          0                0  \n",
       "\n",
       "[3 rows x 57 columns]"
      ]
     },
     "execution_count": 36,
     "metadata": {},
     "output_type": "execute_result"
    }
   ],
   "source": [
    "df_final.head(3)"
   ]
  },
  {
   "cell_type": "code",
   "execution_count": 37,
   "id": "641ab082",
   "metadata": {},
   "outputs": [
    {
     "data": {
      "text/plain": [
       "array([-1,  0,  1], dtype=int64)"
      ]
     },
     "execution_count": 37,
     "metadata": {},
     "output_type": "execute_result"
    }
   ],
   "source": [
    "# verifing column data\n",
    "df_final['CLAIM_DEVIATION'].unique()"
   ]
  },
  {
   "cell_type": "markdown",
   "id": "bab77a8a",
   "metadata": {},
   "source": [
    "## Task 7 Result"
   ]
  },
  {
   "cell_type": "code",
   "execution_count": 38,
   "id": "97feb1c4",
   "metadata": {},
   "outputs": [
    {
     "data": {
      "text/plain": [
       "CLAIM_DEVIATION\n",
       "-1      26\n",
       " 0    9387\n",
       " 1     587\n",
       "dtype: int64"
      ]
     },
     "execution_count": 38,
     "metadata": {},
     "output_type": "execute_result"
    }
   ],
   "source": [
    "df_final.groupby('CLAIM_DEVIATION').size()"
   ]
  },
  {
   "cell_type": "markdown",
   "id": "b3eb290b",
   "metadata": {},
   "source": [
    "### Obs:\n",
    "  - 26 Transactions having history of less than 30 days\n",
    "  - 587 Transactions having claim deviation \n",
    "  - 9387 Transactions having no claim deviation"
   ]
  },
  {
   "cell_type": "markdown",
   "id": "9c389aa0",
   "metadata": {},
   "source": [
    "## Task #7\n",
    "Find All Agents who have worked on more than 2 types of Insurance Claims. Sort them by\n",
    "Total Claim Amount Approved under them in descending order"
   ]
  },
  {
   "cell_type": "code",
   "execution_count": 39,
   "id": "93d98598",
   "metadata": {},
   "outputs": [
    {
     "data": {
      "text/plain": [
       "Index(['index', 'TXN_DATE_TIME', 'TRANSACTION_ID', 'CUSTOMER_ID',\n",
       "       'POLICY_NUMBER', 'POLICY_EFF_DT', 'LOSS_DT', 'REPORT_DT',\n",
       "       'INSURANCE_TYPE', 'PREMIUM_AMOUNT', 'CLAIM_AMOUNT', 'CUSTOMER_NAME',\n",
       "       'ADDRESS_LINE1_x', 'ADDRESS_LINE2_x', 'CITY_x', 'STATE_x',\n",
       "       'POSTAL_CODE_x', 'SSN', 'MARITAL_STATUS', 'AGE', 'TENURE',\n",
       "       'EMPLOYMENT_STATUS', 'NO_OF_FAMILY_MEMBERS', 'RISK_SEGMENTATION',\n",
       "       'HOUSE_TYPE', 'SOCIAL_CLASS', 'ROUTING_NUMBER', 'ACCT_NUMBER',\n",
       "       'CUSTOMER_EDUCATION_LEVEL', 'CLAIM_STATUS', 'INCIDENT_SEVERITY',\n",
       "       'AUTHORITY_CONTACTED', 'ANY_INJURY', 'POLICE_REPORT_AVAILABLE',\n",
       "       'INCIDENT_STATE', 'INCIDENT_CITY', 'INCIDENT_HOUR_OF_THE_DAY',\n",
       "       'AGENT_ID', 'VENDOR_ID', 'AGENT_NAME', 'DATE_OF_JOINING',\n",
       "       'ADDRESS_LINE1_y', 'ADDRESS_LINE2_y', 'CITY_y', 'STATE_y',\n",
       "       'POSTAL_CODE_y', 'EMP_ROUTING_NUMBER', 'EMP_ACCT_NUMBER', 'VENDOR_NAME',\n",
       "       'ADDRESS_LINE1', 'ADDRESS_LINE2', 'CITY', 'STATE', 'POSTAL_CODE',\n",
       "       '30_day_back', 'COLOCATION', 'CLAIM_DEVIATION'],\n",
       "      dtype='object')"
      ]
     },
     "execution_count": 39,
     "metadata": {},
     "output_type": "execute_result"
    }
   ],
   "source": [
    "# getting column names\n",
    "df_final.columns"
   ]
  },
  {
   "cell_type": "code",
   "execution_count": 40,
   "id": "5cbefab3",
   "metadata": {},
   "outputs": [
    {
     "data": {
      "text/html": [
       "<div>\n",
       "<style scoped>\n",
       "    .dataframe tbody tr th:only-of-type {\n",
       "        vertical-align: middle;\n",
       "    }\n",
       "\n",
       "    .dataframe tbody tr th {\n",
       "        vertical-align: top;\n",
       "    }\n",
       "\n",
       "    .dataframe thead th {\n",
       "        text-align: right;\n",
       "    }\n",
       "</style>\n",
       "<table border=\"1\" class=\"dataframe\">\n",
       "  <thead>\n",
       "    <tr style=\"text-align: right;\">\n",
       "      <th></th>\n",
       "      <th>AGENT_ID</th>\n",
       "      <th>insurance_category</th>\n",
       "    </tr>\n",
       "  </thead>\n",
       "  <tbody>\n",
       "    <tr>\n",
       "      <th>0</th>\n",
       "      <td>AGENT00001</td>\n",
       "      <td>[Motor, Property, Mobile, Travel]</td>\n",
       "    </tr>\n",
       "    <tr>\n",
       "      <th>1</th>\n",
       "      <td>AGENT00002</td>\n",
       "      <td>[Life, Travel]</td>\n",
       "    </tr>\n",
       "    <tr>\n",
       "      <th>2</th>\n",
       "      <td>AGENT00003</td>\n",
       "      <td>[Property, Life, Travel, Motor, Health, Mobile]</td>\n",
       "    </tr>\n",
       "  </tbody>\n",
       "</table>\n",
       "</div>"
      ],
      "text/plain": [
       "     AGENT_ID                               insurance_category\n",
       "0  AGENT00001                [Motor, Property, Mobile, Travel]\n",
       "1  AGENT00002                                   [Life, Travel]\n",
       "2  AGENT00003  [Property, Life, Travel, Motor, Health, Mobile]"
      ]
     },
     "execution_count": 40,
     "metadata": {},
     "output_type": "execute_result"
    }
   ],
   "source": [
    "# creating a new dataframe having agent id and insurance types as list in 1 column for a agent\n",
    "df_agents=df_final.groupby('AGENT_ID')['INSURANCE_TYPE'].unique().reset_index(name=\"insurance_category\")\n",
    "df_agents.head(3)"
   ]
  },
  {
   "cell_type": "code",
   "execution_count": 41,
   "id": "1a7d1061",
   "metadata": {},
   "outputs": [],
   "source": [
    "# creating an index column which help in passing specific row to the function\n",
    "df_agents.reset_index(inplace=True)"
   ]
  },
  {
   "cell_type": "code",
   "execution_count": 42,
   "id": "1a06f238",
   "metadata": {},
   "outputs": [
    {
     "data": {
      "text/html": [
       "<div>\n",
       "<style scoped>\n",
       "    .dataframe tbody tr th:only-of-type {\n",
       "        vertical-align: middle;\n",
       "    }\n",
       "\n",
       "    .dataframe tbody tr th {\n",
       "        vertical-align: top;\n",
       "    }\n",
       "\n",
       "    .dataframe thead th {\n",
       "        text-align: right;\n",
       "    }\n",
       "</style>\n",
       "<table border=\"1\" class=\"dataframe\">\n",
       "  <thead>\n",
       "    <tr style=\"text-align: right;\">\n",
       "      <th></th>\n",
       "      <th>index</th>\n",
       "      <th>AGENT_ID</th>\n",
       "      <th>insurance_category</th>\n",
       "    </tr>\n",
       "  </thead>\n",
       "  <tbody>\n",
       "    <tr>\n",
       "      <th>0</th>\n",
       "      <td>0</td>\n",
       "      <td>AGENT00001</td>\n",
       "      <td>[Motor, Property, Mobile, Travel]</td>\n",
       "    </tr>\n",
       "    <tr>\n",
       "      <th>1</th>\n",
       "      <td>1</td>\n",
       "      <td>AGENT00002</td>\n",
       "      <td>[Life, Travel]</td>\n",
       "    </tr>\n",
       "    <tr>\n",
       "      <th>2</th>\n",
       "      <td>2</td>\n",
       "      <td>AGENT00003</td>\n",
       "      <td>[Property, Life, Travel, Motor, Health, Mobile]</td>\n",
       "    </tr>\n",
       "  </tbody>\n",
       "</table>\n",
       "</div>"
      ],
      "text/plain": [
       "   index    AGENT_ID                               insurance_category\n",
       "0      0  AGENT00001                [Motor, Property, Mobile, Travel]\n",
       "1      1  AGENT00002                                   [Life, Travel]\n",
       "2      2  AGENT00003  [Property, Life, Travel, Motor, Health, Mobile]"
      ]
     },
     "execution_count": 42,
     "metadata": {},
     "output_type": "execute_result"
    }
   ],
   "source": [
    "df_agents.head(3)"
   ]
  },
  {
   "cell_type": "code",
   "execution_count": 43,
   "id": "41139454",
   "metadata": {},
   "outputs": [],
   "source": [
    "# a func calculating the number of types of insurace \n",
    "def len_cal(x):\n",
    "    return len(df_agents['insurance_category'].iloc[df_agents.index[x]])"
   ]
  },
  {
   "cell_type": "code",
   "execution_count": 44,
   "id": "92a70582",
   "metadata": {},
   "outputs": [],
   "source": [
    "# applying the function of df_agent dataframe and creating a new feature having count of types of insurace clain by an agent\n",
    "df_agents['Total_Category']=df_agents['index'].apply(len_cal)"
   ]
  },
  {
   "cell_type": "code",
   "execution_count": 45,
   "id": "52630fe8",
   "metadata": {},
   "outputs": [
    {
     "data": {
      "text/html": [
       "<div>\n",
       "<style scoped>\n",
       "    .dataframe tbody tr th:only-of-type {\n",
       "        vertical-align: middle;\n",
       "    }\n",
       "\n",
       "    .dataframe tbody tr th {\n",
       "        vertical-align: top;\n",
       "    }\n",
       "\n",
       "    .dataframe thead th {\n",
       "        text-align: right;\n",
       "    }\n",
       "</style>\n",
       "<table border=\"1\" class=\"dataframe\">\n",
       "  <thead>\n",
       "    <tr style=\"text-align: right;\">\n",
       "      <th></th>\n",
       "      <th>index</th>\n",
       "      <th>AGENT_ID</th>\n",
       "      <th>insurance_category</th>\n",
       "      <th>Total_Category</th>\n",
       "    </tr>\n",
       "  </thead>\n",
       "  <tbody>\n",
       "    <tr>\n",
       "      <th>0</th>\n",
       "      <td>0</td>\n",
       "      <td>AGENT00001</td>\n",
       "      <td>[Motor, Property, Mobile, Travel]</td>\n",
       "      <td>4</td>\n",
       "    </tr>\n",
       "    <tr>\n",
       "      <th>1</th>\n",
       "      <td>1</td>\n",
       "      <td>AGENT00002</td>\n",
       "      <td>[Life, Travel]</td>\n",
       "      <td>2</td>\n",
       "    </tr>\n",
       "    <tr>\n",
       "      <th>2</th>\n",
       "      <td>2</td>\n",
       "      <td>AGENT00003</td>\n",
       "      <td>[Property, Life, Travel, Motor, Health, Mobile]</td>\n",
       "      <td>6</td>\n",
       "    </tr>\n",
       "    <tr>\n",
       "      <th>3</th>\n",
       "      <td>3</td>\n",
       "      <td>AGENT00004</td>\n",
       "      <td>[Life, Health, Mobile, Property, Motor, Travel]</td>\n",
       "      <td>6</td>\n",
       "    </tr>\n",
       "  </tbody>\n",
       "</table>\n",
       "</div>"
      ],
      "text/plain": [
       "   index    AGENT_ID                               insurance_category  \\\n",
       "0      0  AGENT00001                [Motor, Property, Mobile, Travel]   \n",
       "1      1  AGENT00002                                   [Life, Travel]   \n",
       "2      2  AGENT00003  [Property, Life, Travel, Motor, Health, Mobile]   \n",
       "3      3  AGENT00004  [Life, Health, Mobile, Property, Motor, Travel]   \n",
       "\n",
       "   Total_Category  \n",
       "0               4  \n",
       "1               2  \n",
       "2               6  \n",
       "3               6  "
      ]
     },
     "execution_count": 45,
     "metadata": {},
     "output_type": "execute_result"
    }
   ],
   "source": [
    "# a look at the dataframe\n",
    "df_agents.head(4)"
   ]
  },
  {
   "cell_type": "code",
   "execution_count": 46,
   "id": "69b3ec31",
   "metadata": {},
   "outputs": [
    {
     "data": {
      "text/html": [
       "<div>\n",
       "<style scoped>\n",
       "    .dataframe tbody tr th:only-of-type {\n",
       "        vertical-align: middle;\n",
       "    }\n",
       "\n",
       "    .dataframe tbody tr th {\n",
       "        vertical-align: top;\n",
       "    }\n",
       "\n",
       "    .dataframe thead th {\n",
       "        text-align: right;\n",
       "    }\n",
       "</style>\n",
       "<table border=\"1\" class=\"dataframe\">\n",
       "  <thead>\n",
       "    <tr style=\"text-align: right;\">\n",
       "      <th></th>\n",
       "      <th>AGENT_ID</th>\n",
       "      <th>insurance_category</th>\n",
       "      <th>Total_Category</th>\n",
       "    </tr>\n",
       "  </thead>\n",
       "  <tbody>\n",
       "    <tr>\n",
       "      <th>0</th>\n",
       "      <td>AGENT00001</td>\n",
       "      <td>[Motor, Property, Mobile, Travel]</td>\n",
       "      <td>4</td>\n",
       "    </tr>\n",
       "    <tr>\n",
       "      <th>1</th>\n",
       "      <td>AGENT00002</td>\n",
       "      <td>[Life, Travel]</td>\n",
       "      <td>2</td>\n",
       "    </tr>\n",
       "    <tr>\n",
       "      <th>2</th>\n",
       "      <td>AGENT00003</td>\n",
       "      <td>[Property, Life, Travel, Motor, Health, Mobile]</td>\n",
       "      <td>6</td>\n",
       "    </tr>\n",
       "    <tr>\n",
       "      <th>3</th>\n",
       "      <td>AGENT00004</td>\n",
       "      <td>[Life, Health, Mobile, Property, Motor, Travel]</td>\n",
       "      <td>6</td>\n",
       "    </tr>\n",
       "    <tr>\n",
       "      <th>4</th>\n",
       "      <td>AGENT00005</td>\n",
       "      <td>[Motor, Property, Health, Travel]</td>\n",
       "      <td>4</td>\n",
       "    </tr>\n",
       "    <tr>\n",
       "      <th>...</th>\n",
       "      <td>...</td>\n",
       "      <td>...</td>\n",
       "      <td>...</td>\n",
       "    </tr>\n",
       "    <tr>\n",
       "      <th>1195</th>\n",
       "      <td>AGENT01196</td>\n",
       "      <td>[Travel, Health, Property, Life]</td>\n",
       "      <td>4</td>\n",
       "    </tr>\n",
       "    <tr>\n",
       "      <th>1196</th>\n",
       "      <td>AGENT01197</td>\n",
       "      <td>[Life, Motor, Property, Mobile]</td>\n",
       "      <td>4</td>\n",
       "    </tr>\n",
       "    <tr>\n",
       "      <th>1197</th>\n",
       "      <td>AGENT01198</td>\n",
       "      <td>[Health, Mobile, Motor, Life]</td>\n",
       "      <td>4</td>\n",
       "    </tr>\n",
       "    <tr>\n",
       "      <th>1198</th>\n",
       "      <td>AGENT01199</td>\n",
       "      <td>[Health, Mobile, Motor, Life, Property]</td>\n",
       "      <td>5</td>\n",
       "    </tr>\n",
       "    <tr>\n",
       "      <th>1199</th>\n",
       "      <td>AGENT01200</td>\n",
       "      <td>[Motor, Travel, Life, Health, Mobile, Property]</td>\n",
       "      <td>6</td>\n",
       "    </tr>\n",
       "  </tbody>\n",
       "</table>\n",
       "<p>1200 rows × 3 columns</p>\n",
       "</div>"
      ],
      "text/plain": [
       "        AGENT_ID                               insurance_category  \\\n",
       "0     AGENT00001                [Motor, Property, Mobile, Travel]   \n",
       "1     AGENT00002                                   [Life, Travel]   \n",
       "2     AGENT00003  [Property, Life, Travel, Motor, Health, Mobile]   \n",
       "3     AGENT00004  [Life, Health, Mobile, Property, Motor, Travel]   \n",
       "4     AGENT00005                [Motor, Property, Health, Travel]   \n",
       "...          ...                                              ...   \n",
       "1195  AGENT01196                 [Travel, Health, Property, Life]   \n",
       "1196  AGENT01197                  [Life, Motor, Property, Mobile]   \n",
       "1197  AGENT01198                    [Health, Mobile, Motor, Life]   \n",
       "1198  AGENT01199          [Health, Mobile, Motor, Life, Property]   \n",
       "1199  AGENT01200  [Motor, Travel, Life, Health, Mobile, Property]   \n",
       "\n",
       "      Total_Category  \n",
       "0                  4  \n",
       "1                  2  \n",
       "2                  6  \n",
       "3                  6  \n",
       "4                  4  \n",
       "...              ...  \n",
       "1195               4  \n",
       "1196               4  \n",
       "1197               4  \n",
       "1198               5  \n",
       "1199               6  \n",
       "\n",
       "[1200 rows x 3 columns]"
      ]
     },
     "execution_count": 46,
     "metadata": {},
     "output_type": "execute_result"
    }
   ],
   "source": [
    "# dropping the unwanted index  column\n",
    "df_agents.drop('index',axis=1)"
   ]
  },
  {
   "cell_type": "code",
   "execution_count": 47,
   "id": "d21e3703",
   "metadata": {},
   "outputs": [],
   "source": [
    "# merging the dataframe 'df_agents' to out main dataframe\n",
    "df_final=pd.merge(df_final,df_agents,on='AGENT_ID',how='left')"
   ]
  },
  {
   "cell_type": "code",
   "execution_count": 48,
   "id": "408e55da",
   "metadata": {},
   "outputs": [
    {
     "data": {
      "text/plain": [
       "Index(['index_x', 'TXN_DATE_TIME', 'TRANSACTION_ID', 'CUSTOMER_ID',\n",
       "       'POLICY_NUMBER', 'POLICY_EFF_DT', 'LOSS_DT', 'REPORT_DT',\n",
       "       'INSURANCE_TYPE', 'PREMIUM_AMOUNT', 'CLAIM_AMOUNT', 'CUSTOMER_NAME',\n",
       "       'ADDRESS_LINE1_x', 'ADDRESS_LINE2_x', 'CITY_x', 'STATE_x',\n",
       "       'POSTAL_CODE_x', 'SSN', 'MARITAL_STATUS', 'AGE', 'TENURE',\n",
       "       'EMPLOYMENT_STATUS', 'NO_OF_FAMILY_MEMBERS', 'RISK_SEGMENTATION',\n",
       "       'HOUSE_TYPE', 'SOCIAL_CLASS', 'ROUTING_NUMBER', 'ACCT_NUMBER',\n",
       "       'CUSTOMER_EDUCATION_LEVEL', 'CLAIM_STATUS', 'INCIDENT_SEVERITY',\n",
       "       'AUTHORITY_CONTACTED', 'ANY_INJURY', 'POLICE_REPORT_AVAILABLE',\n",
       "       'INCIDENT_STATE', 'INCIDENT_CITY', 'INCIDENT_HOUR_OF_THE_DAY',\n",
       "       'AGENT_ID', 'VENDOR_ID', 'AGENT_NAME', 'DATE_OF_JOINING',\n",
       "       'ADDRESS_LINE1_y', 'ADDRESS_LINE2_y', 'CITY_y', 'STATE_y',\n",
       "       'POSTAL_CODE_y', 'EMP_ROUTING_NUMBER', 'EMP_ACCT_NUMBER', 'VENDOR_NAME',\n",
       "       'ADDRESS_LINE1', 'ADDRESS_LINE2', 'CITY', 'STATE', 'POSTAL_CODE',\n",
       "       '30_day_back', 'COLOCATION', 'CLAIM_DEVIATION', 'index_y',\n",
       "       'insurance_category', 'Total_Category'],\n",
       "      dtype='object')"
      ]
     },
     "execution_count": 48,
     "metadata": {},
     "output_type": "execute_result"
    }
   ],
   "source": [
    "# verifying the added columns\n",
    "df_final.columns"
   ]
  },
  {
   "cell_type": "markdown",
   "id": "40a70c86",
   "metadata": {},
   "source": [
    "## RESULT Task 7"
   ]
  },
  {
   "cell_type": "code",
   "execution_count": 49,
   "id": "b0e49517",
   "metadata": {},
   "outputs": [
    {
     "data": {
      "text/html": [
       "<div>\n",
       "<style scoped>\n",
       "    .dataframe tbody tr th:only-of-type {\n",
       "        vertical-align: middle;\n",
       "    }\n",
       "\n",
       "    .dataframe tbody tr th {\n",
       "        vertical-align: top;\n",
       "    }\n",
       "\n",
       "    .dataframe thead th {\n",
       "        text-align: right;\n",
       "    }\n",
       "</style>\n",
       "<table border=\"1\" class=\"dataframe\">\n",
       "  <thead>\n",
       "    <tr style=\"text-align: right;\">\n",
       "      <th></th>\n",
       "      <th>AGENT_ID</th>\n",
       "      <th>AGENT_NAME</th>\n",
       "      <th>Total_Claim</th>\n",
       "    </tr>\n",
       "  </thead>\n",
       "  <tbody>\n",
       "    <tr>\n",
       "      <th>0</th>\n",
       "      <td>AGENT00807</td>\n",
       "      <td>Don Filkins</td>\n",
       "      <td>528800</td>\n",
       "    </tr>\n",
       "    <tr>\n",
       "      <th>1</th>\n",
       "      <td>AGENT00679</td>\n",
       "      <td>Clara Barnett</td>\n",
       "      <td>489000</td>\n",
       "    </tr>\n",
       "    <tr>\n",
       "      <th>2</th>\n",
       "      <td>AGENT00771</td>\n",
       "      <td>Roger Burns</td>\n",
       "      <td>422100</td>\n",
       "    </tr>\n",
       "    <tr>\n",
       "      <th>3</th>\n",
       "      <td>AGENT00125</td>\n",
       "      <td>Salvador Soriano</td>\n",
       "      <td>400400</td>\n",
       "    </tr>\n",
       "    <tr>\n",
       "      <th>4</th>\n",
       "      <td>AGENT00789</td>\n",
       "      <td>Alison Baron</td>\n",
       "      <td>392900</td>\n",
       "    </tr>\n",
       "    <tr>\n",
       "      <th>...</th>\n",
       "      <td>...</td>\n",
       "      <td>...</td>\n",
       "      <td>...</td>\n",
       "    </tr>\n",
       "    <tr>\n",
       "      <th>1159</th>\n",
       "      <td>AGENT00910</td>\n",
       "      <td>Vincent Ragan</td>\n",
       "      <td>15500</td>\n",
       "    </tr>\n",
       "    <tr>\n",
       "      <th>1160</th>\n",
       "      <td>AGENT00689</td>\n",
       "      <td>Connie Hunt</td>\n",
       "      <td>13700</td>\n",
       "    </tr>\n",
       "    <tr>\n",
       "      <th>1161</th>\n",
       "      <td>AGENT00732</td>\n",
       "      <td>Sylvia Tran</td>\n",
       "      <td>11300</td>\n",
       "    </tr>\n",
       "    <tr>\n",
       "      <th>1162</th>\n",
       "      <td>AGENT00706</td>\n",
       "      <td>Laura Staggs</td>\n",
       "      <td>10800</td>\n",
       "    </tr>\n",
       "    <tr>\n",
       "      <th>1163</th>\n",
       "      <td>AGENT00604</td>\n",
       "      <td>Thelma Salinas</td>\n",
       "      <td>5500</td>\n",
       "    </tr>\n",
       "  </tbody>\n",
       "</table>\n",
       "<p>1164 rows × 3 columns</p>\n",
       "</div>"
      ],
      "text/plain": [
       "        AGENT_ID        AGENT_NAME  Total_Claim\n",
       "0     AGENT00807       Don Filkins       528800\n",
       "1     AGENT00679     Clara Barnett       489000\n",
       "2     AGENT00771       Roger Burns       422100\n",
       "3     AGENT00125  Salvador Soriano       400400\n",
       "4     AGENT00789      Alison Baron       392900\n",
       "...          ...               ...          ...\n",
       "1159  AGENT00910     Vincent Ragan        15500\n",
       "1160  AGENT00689       Connie Hunt        13700\n",
       "1161  AGENT00732       Sylvia Tran        11300\n",
       "1162  AGENT00706      Laura Staggs        10800\n",
       "1163  AGENT00604    Thelma Salinas         5500\n",
       "\n",
       "[1164 rows x 3 columns]"
      ]
     },
     "execution_count": 49,
     "metadata": {},
     "output_type": "execute_result"
    }
   ],
   "source": [
    "# sorting out the agents on the condition specified\n",
    "df_final[df_final['Total_Category']>2].groupby(['AGENT_ID','AGENT_NAME'])['CLAIM_AMOUNT'].sum().reset_index(name='Total_Claim').sort_values(by='Total_Claim',ascending=False).reset_index(drop=True)"
   ]
  },
  {
   "cell_type": "markdown",
   "id": "1ffec978",
   "metadata": {},
   "source": [
    "### observation : there are total 1164 such agents"
   ]
  },
  {
   "cell_type": "markdown",
   "id": "5ee97e9d",
   "metadata": {},
   "source": [
    "## Task #8\n",
    "Mobile & Travel Insurance premium are discounted by 10%\n",
    "Health and Property Insurance premium are increased by 7%\n",
    "Life and Motor Insurance premium are marginally increased by 2%\n",
    "What will be overall change in % of the Premium Amount Collected for all these Customer?"
   ]
  },
  {
   "cell_type": "code",
   "execution_count": 50,
   "id": "ce958d75",
   "metadata": {},
   "outputs": [
    {
     "data": {
      "text/html": [
       "<div>\n",
       "<style scoped>\n",
       "    .dataframe tbody tr th:only-of-type {\n",
       "        vertical-align: middle;\n",
       "    }\n",
       "\n",
       "    .dataframe tbody tr th {\n",
       "        vertical-align: top;\n",
       "    }\n",
       "\n",
       "    .dataframe thead th {\n",
       "        text-align: right;\n",
       "    }\n",
       "</style>\n",
       "<table border=\"1\" class=\"dataframe\">\n",
       "  <thead>\n",
       "    <tr style=\"text-align: right;\">\n",
       "      <th></th>\n",
       "      <th>index_x</th>\n",
       "      <th>TXN_DATE_TIME</th>\n",
       "      <th>TRANSACTION_ID</th>\n",
       "      <th>CUSTOMER_ID</th>\n",
       "      <th>POLICY_NUMBER</th>\n",
       "      <th>POLICY_EFF_DT</th>\n",
       "      <th>LOSS_DT</th>\n",
       "      <th>REPORT_DT</th>\n",
       "      <th>INSURANCE_TYPE</th>\n",
       "      <th>PREMIUM_AMOUNT</th>\n",
       "      <th>...</th>\n",
       "      <th>ADDRESS_LINE2</th>\n",
       "      <th>CITY</th>\n",
       "      <th>STATE</th>\n",
       "      <th>POSTAL_CODE</th>\n",
       "      <th>30_day_back</th>\n",
       "      <th>COLOCATION</th>\n",
       "      <th>CLAIM_DEVIATION</th>\n",
       "      <th>index_y</th>\n",
       "      <th>insurance_category</th>\n",
       "      <th>Total_Category</th>\n",
       "    </tr>\n",
       "  </thead>\n",
       "  <tbody>\n",
       "    <tr>\n",
       "      <th>0</th>\n",
       "      <td>0</td>\n",
       "      <td>2020-06-01 00:00:00</td>\n",
       "      <td>TXN00000001</td>\n",
       "      <td>A00003822</td>\n",
       "      <td>PLC00008468</td>\n",
       "      <td>2015-06-23</td>\n",
       "      <td>2020-05-16</td>\n",
       "      <td>2020-05-21</td>\n",
       "      <td>Health</td>\n",
       "      <td>157.13</td>\n",
       "      <td>...</td>\n",
       "      <td>NaN</td>\n",
       "      <td>Panama City</td>\n",
       "      <td>FL</td>\n",
       "      <td>32405.0</td>\n",
       "      <td>2020-04-15</td>\n",
       "      <td>0</td>\n",
       "      <td>-1</td>\n",
       "      <td>412</td>\n",
       "      <td>[Health, Life, Mobile, Property, Motor]</td>\n",
       "      <td>5</td>\n",
       "    </tr>\n",
       "    <tr>\n",
       "      <th>1</th>\n",
       "      <td>1</td>\n",
       "      <td>2020-06-01 00:00:00</td>\n",
       "      <td>TXN00000002</td>\n",
       "      <td>A00008149</td>\n",
       "      <td>PLC00009594</td>\n",
       "      <td>2018-04-21</td>\n",
       "      <td>2020-05-13</td>\n",
       "      <td>2020-05-18</td>\n",
       "      <td>Property</td>\n",
       "      <td>141.71</td>\n",
       "      <td>...</td>\n",
       "      <td>B</td>\n",
       "      <td>Fayetteville</td>\n",
       "      <td>AR</td>\n",
       "      <td>72701.0</td>\n",
       "      <td>2020-04-12</td>\n",
       "      <td>0</td>\n",
       "      <td>-1</td>\n",
       "      <td>768</td>\n",
       "      <td>[Property, Travel, Mobile, Life, Motor, Health]</td>\n",
       "      <td>6</td>\n",
       "    </tr>\n",
       "    <tr>\n",
       "      <th>2</th>\n",
       "      <td>2</td>\n",
       "      <td>2020-06-01 00:00:00</td>\n",
       "      <td>TXN00000003</td>\n",
       "      <td>A00003172</td>\n",
       "      <td>PLC00007969</td>\n",
       "      <td>2019-10-03</td>\n",
       "      <td>2020-05-21</td>\n",
       "      <td>2020-05-26</td>\n",
       "      <td>Property</td>\n",
       "      <td>157.24</td>\n",
       "      <td>...</td>\n",
       "      <td>#315</td>\n",
       "      <td>Fayetteville</td>\n",
       "      <td>AR</td>\n",
       "      <td>72703.0</td>\n",
       "      <td>2020-04-20</td>\n",
       "      <td>0</td>\n",
       "      <td>0</td>\n",
       "      <td>882</td>\n",
       "      <td>[Property, Mobile, Health, Life]</td>\n",
       "      <td>4</td>\n",
       "    </tr>\n",
       "  </tbody>\n",
       "</table>\n",
       "<p>3 rows × 60 columns</p>\n",
       "</div>"
      ],
      "text/plain": [
       "   index_x        TXN_DATE_TIME TRANSACTION_ID CUSTOMER_ID POLICY_NUMBER  \\\n",
       "0        0  2020-06-01 00:00:00    TXN00000001   A00003822   PLC00008468   \n",
       "1        1  2020-06-01 00:00:00    TXN00000002   A00008149   PLC00009594   \n",
       "2        2  2020-06-01 00:00:00    TXN00000003   A00003172   PLC00007969   \n",
       "\n",
       "  POLICY_EFF_DT    LOSS_DT  REPORT_DT INSURANCE_TYPE  PREMIUM_AMOUNT  ...  \\\n",
       "0    2015-06-23 2020-05-16 2020-05-21         Health          157.13  ...   \n",
       "1    2018-04-21 2020-05-13 2020-05-18       Property          141.71  ...   \n",
       "2    2019-10-03 2020-05-21 2020-05-26       Property          157.24  ...   \n",
       "\n",
       "   ADDRESS_LINE2          CITY STATE POSTAL_CODE 30_day_back COLOCATION  \\\n",
       "0            NaN   Panama City    FL     32405.0  2020-04-15          0   \n",
       "1              B  Fayetteville    AR     72701.0  2020-04-12          0   \n",
       "2           #315  Fayetteville    AR     72703.0  2020-04-20          0   \n",
       "\n",
       "   CLAIM_DEVIATION index_y                               insurance_category  \\\n",
       "0               -1     412          [Health, Life, Mobile, Property, Motor]   \n",
       "1               -1     768  [Property, Travel, Mobile, Life, Motor, Health]   \n",
       "2                0     882                 [Property, Mobile, Health, Life]   \n",
       "\n",
       "   Total_Category  \n",
       "0               5  \n",
       "1               6  \n",
       "2               4  \n",
       "\n",
       "[3 rows x 60 columns]"
      ]
     },
     "execution_count": 50,
     "metadata": {},
     "output_type": "execute_result"
    }
   ],
   "source": [
    "df_final.head(3)"
   ]
  },
  {
   "cell_type": "code",
   "execution_count": 51,
   "id": "9b045d87",
   "metadata": {},
   "outputs": [
    {
     "data": {
      "text/plain": [
       "array(['Health', 'Property', 'Travel', 'Life', 'Motor', 'Mobile'],\n",
       "      dtype=object)"
      ]
     },
     "execution_count": 51,
     "metadata": {},
     "output_type": "execute_result"
    }
   ],
   "source": [
    "# getting all types of Insurace\n",
    "df_final['INSURANCE_TYPE'].unique()"
   ]
  },
  {
   "cell_type": "code",
   "execution_count": 52,
   "id": "237236a3",
   "metadata": {},
   "outputs": [],
   "source": [
    "# function as per required condition\n",
    "def discount(x):\n",
    "    x = df_final['INSURANCE_TYPE'].iloc[df_final.index[x]]\n",
    "    if x == 'Mobile' or x == 'Travel':\n",
    "        return df_final['PREMIUM_AMOUNT'].iloc[df_final.index[0]]*0.9\n",
    "    elif x == 'Health' or x == 'Property':\n",
    "        return df_final['PREMIUM_AMOUNT'].iloc[df_final.index[0]]*1.07\n",
    "    elif x == 'Life' or x == 'Motor':\n",
    "        return df_final['PREMIUM_AMOUNT'].iloc[df_final.index[0]]*1.02\n",
    "    else :\n",
    "        return 'error'\n",
    "        \n",
    "    "
   ]
  },
  {
   "cell_type": "code",
   "execution_count": 53,
   "id": "11e215a6",
   "metadata": {},
   "outputs": [],
   "source": [
    "# applying the function\n",
    "df_final['New_Premium'] = df_final['index_x'].apply(discount)"
   ]
  },
  {
   "cell_type": "markdown",
   "id": "14f2a804",
   "metadata": {},
   "source": [
    "## RESULT Task 8"
   ]
  },
  {
   "cell_type": "code",
   "execution_count": 54,
   "id": "7da05545",
   "metadata": {},
   "outputs": [
    {
     "data": {
      "text/html": [
       "<div>\n",
       "<style scoped>\n",
       "    .dataframe tbody tr th:only-of-type {\n",
       "        vertical-align: middle;\n",
       "    }\n",
       "\n",
       "    .dataframe tbody tr th {\n",
       "        vertical-align: top;\n",
       "    }\n",
       "\n",
       "    .dataframe thead th {\n",
       "        text-align: right;\n",
       "    }\n",
       "</style>\n",
       "<table border=\"1\" class=\"dataframe\">\n",
       "  <thead>\n",
       "    <tr style=\"text-align: right;\">\n",
       "      <th></th>\n",
       "      <th>INSURANCE_TYPE</th>\n",
       "      <th>PREMIUM_AMOUNT</th>\n",
       "      <th>New_Premium</th>\n",
       "    </tr>\n",
       "  </thead>\n",
       "  <tbody>\n",
       "    <tr>\n",
       "      <th>0</th>\n",
       "      <td>Health</td>\n",
       "      <td>157.13</td>\n",
       "      <td>168.1291</td>\n",
       "    </tr>\n",
       "    <tr>\n",
       "      <th>1</th>\n",
       "      <td>Property</td>\n",
       "      <td>141.71</td>\n",
       "      <td>168.1291</td>\n",
       "    </tr>\n",
       "    <tr>\n",
       "      <th>2</th>\n",
       "      <td>Property</td>\n",
       "      <td>157.24</td>\n",
       "      <td>168.1291</td>\n",
       "    </tr>\n",
       "    <tr>\n",
       "      <th>3</th>\n",
       "      <td>Health</td>\n",
       "      <td>172.87</td>\n",
       "      <td>168.1291</td>\n",
       "    </tr>\n",
       "  </tbody>\n",
       "</table>\n",
       "</div>"
      ],
      "text/plain": [
       "  INSURANCE_TYPE  PREMIUM_AMOUNT  New_Premium\n",
       "0         Health          157.13     168.1291\n",
       "1       Property          141.71     168.1291\n",
       "2       Property          157.24     168.1291\n",
       "3         Health          172.87     168.1291"
      ]
     },
     "execution_count": 54,
     "metadata": {},
     "output_type": "execute_result"
    }
   ],
   "source": [
    "# verifing the execution of function\n",
    "df_final[['INSURANCE_TYPE','PREMIUM_AMOUNT','New_Premium']].head(4)"
   ]
  },
  {
   "cell_type": "code",
   "execution_count": 55,
   "id": "bcd96e3c",
   "metadata": {},
   "outputs": [
    {
     "data": {
      "text/plain": [
       "'76.92114034800802 %'"
      ]
     },
     "execution_count": 55,
     "metadata": {},
     "output_type": "execute_result"
    }
   ],
   "source": [
    "# calculating the percentage change in total premium\n",
    "str(((df_final['New_Premium'].sum() - df_final['PREMIUM_AMOUNT'].sum())/df_final['PREMIUM_AMOUNT'].sum())*100) + ' %'"
   ]
  },
  {
   "cell_type": "markdown",
   "id": "c1f4951b",
   "metadata": {},
   "source": [
    "### Obs: total premium is increased by 76.92 %"
   ]
  },
  {
   "cell_type": "markdown",
   "id": "113e5371",
   "metadata": {},
   "source": [
    "# Task #9\n",
    "Business wants to give discount to customer who are loyal and under stress due to Covid\n",
    "19. They have laid down an eligibility Criteria as follow\n",
    "IF CUSTOMER_TENURE > 60 AND EMPLOYMENT_STATUS = “N”\n",
    "AND NO_OF_FAMILY_MEMBERS >=4 THEN 1 ELSE 0"
   ]
  },
  {
   "cell_type": "code",
   "execution_count": 56,
   "id": "f47f02ee",
   "metadata": {},
   "outputs": [
    {
     "data": {
      "text/plain": [
       "array(['Y', 'N'], dtype=object)"
      ]
     },
     "execution_count": 56,
     "metadata": {},
     "output_type": "execute_result"
    }
   ],
   "source": [
    "# getting the types of value in 'EMPLOYMENT_STATUS' Feature\n",
    "df_final['EMPLOYMENT_STATUS'].unique()"
   ]
  },
  {
   "cell_type": "code",
   "execution_count": 57,
   "id": "76816656",
   "metadata": {},
   "outputs": [],
   "source": [
    "# setting 1 in the new column as per required condition \n",
    "df_final.loc[(df_final['TENURE']>60) & (df_final['EMPLOYMENT_STATUS']==\"N\"),'Eligible_for_Discount'] = 1"
   ]
  },
  {
   "cell_type": "code",
   "execution_count": 58,
   "id": "46f9b4d0",
   "metadata": {},
   "outputs": [],
   "source": [
    "# setting column with 0 for unsatisfied row\n",
    "df_final.loc[df_final['Eligible_for_Discount'].isnull(),'Eligible_for_Discount']=0"
   ]
  },
  {
   "cell_type": "code",
   "execution_count": 59,
   "id": "fc5f0ec1",
   "metadata": {},
   "outputs": [],
   "source": [
    "# changing datatype to int\n",
    "df_final['Eligible_for_Discount']=df_final['Eligible_for_Discount'].astype({'Eligible_for_Discount':'int64'})"
   ]
  },
  {
   "cell_type": "markdown",
   "id": "56f62914",
   "metadata": {},
   "source": [
    "## RESULT Task 9"
   ]
  },
  {
   "cell_type": "code",
   "execution_count": 60,
   "id": "f124dbc3",
   "metadata": {},
   "outputs": [
    {
     "data": {
      "text/html": [
       "<div>\n",
       "<style scoped>\n",
       "    .dataframe tbody tr th:only-of-type {\n",
       "        vertical-align: middle;\n",
       "    }\n",
       "\n",
       "    .dataframe tbody tr th {\n",
       "        vertical-align: top;\n",
       "    }\n",
       "\n",
       "    .dataframe thead th {\n",
       "        text-align: right;\n",
       "    }\n",
       "</style>\n",
       "<table border=\"1\" class=\"dataframe\">\n",
       "  <thead>\n",
       "    <tr style=\"text-align: right;\">\n",
       "      <th></th>\n",
       "      <th>CUSTOMER_ID</th>\n",
       "      <th>Eligible_for_Discount</th>\n",
       "    </tr>\n",
       "  </thead>\n",
       "  <tbody>\n",
       "    <tr>\n",
       "      <th>0</th>\n",
       "      <td>A00003822</td>\n",
       "      <td>0</td>\n",
       "    </tr>\n",
       "    <tr>\n",
       "      <th>1</th>\n",
       "      <td>A00008149</td>\n",
       "      <td>0</td>\n",
       "    </tr>\n",
       "    <tr>\n",
       "      <th>2</th>\n",
       "      <td>A00003172</td>\n",
       "      <td>0</td>\n",
       "    </tr>\n",
       "    <tr>\n",
       "      <th>3</th>\n",
       "      <td>A00007572</td>\n",
       "      <td>0</td>\n",
       "    </tr>\n",
       "  </tbody>\n",
       "</table>\n",
       "</div>"
      ],
      "text/plain": [
       "  CUSTOMER_ID  Eligible_for_Discount\n",
       "0   A00003822                      0\n",
       "1   A00008149                      0\n",
       "2   A00003172                      0\n",
       "3   A00007572                      0"
      ]
     },
     "execution_count": 60,
     "metadata": {},
     "output_type": "execute_result"
    }
   ],
   "source": [
    "df_final[['CUSTOMER_ID','Eligible_for_Discount']].head(4)"
   ]
  },
  {
   "cell_type": "code",
   "execution_count": 61,
   "id": "3eccf394",
   "metadata": {},
   "outputs": [
    {
     "data": {
      "text/plain": [
       "Eligible_for_Discount\n",
       "Not Eligible For Discount    9549\n",
       "Eligible For Discount         451\n",
       "dtype: int64"
      ]
     },
     "execution_count": 61,
     "metadata": {},
     "output_type": "execute_result"
    }
   ],
   "source": [
    "df_final.groupby('Eligible_for_Discount').size().rename({0:'Not Eligible For Discount',1:'Eligible For Discount'},axis='index')"
   ]
  },
  {
   "cell_type": "markdown",
   "id": "c434afbf",
   "metadata": {},
   "source": [
    "###  451 customer are eligible for discount"
   ]
  },
  {
   "cell_type": "markdown",
   "id": "02286360",
   "metadata": {},
   "source": [
    "# Task #10\n",
    "Business wants to check Claim Velocity which is defined as follow\n",
    "CLAIM_VELOCITY = NO_OF_CLAIMS_IN_LAST30DAYS (for the current insurance type)\n",
    "/ NO_OF_CLAIMS_IN_LAST3DAYS (for the current insurance type)\n",
    "Note: LAST30DAYS & LAST3DAYS does not include current\n",
    "day"
   ]
  },
  {
   "cell_type": "code",
   "execution_count": 62,
   "id": "85be5593",
   "metadata": {},
   "outputs": [
    {
     "data": {
      "text/html": [
       "<div>\n",
       "<style scoped>\n",
       "    .dataframe tbody tr th:only-of-type {\n",
       "        vertical-align: middle;\n",
       "    }\n",
       "\n",
       "    .dataframe tbody tr th {\n",
       "        vertical-align: top;\n",
       "    }\n",
       "\n",
       "    .dataframe thead th {\n",
       "        text-align: right;\n",
       "    }\n",
       "</style>\n",
       "<table border=\"1\" class=\"dataframe\">\n",
       "  <thead>\n",
       "    <tr style=\"text-align: right;\">\n",
       "      <th></th>\n",
       "      <th>index</th>\n",
       "      <th>TRANSACTION_ID</th>\n",
       "      <th>INSURANCE_TYPE</th>\n",
       "      <th>LOSS_DT</th>\n",
       "      <th>30_day_back</th>\n",
       "    </tr>\n",
       "  </thead>\n",
       "  <tbody>\n",
       "    <tr>\n",
       "      <th>0</th>\n",
       "      <td>0</td>\n",
       "      <td>TXN00000001</td>\n",
       "      <td>Health</td>\n",
       "      <td>2020-05-16</td>\n",
       "      <td>2020-04-15</td>\n",
       "    </tr>\n",
       "    <tr>\n",
       "      <th>1</th>\n",
       "      <td>1</td>\n",
       "      <td>TXN00000002</td>\n",
       "      <td>Property</td>\n",
       "      <td>2020-05-13</td>\n",
       "      <td>2020-04-12</td>\n",
       "    </tr>\n",
       "    <tr>\n",
       "      <th>2</th>\n",
       "      <td>2</td>\n",
       "      <td>TXN00000003</td>\n",
       "      <td>Property</td>\n",
       "      <td>2020-05-21</td>\n",
       "      <td>2020-04-20</td>\n",
       "    </tr>\n",
       "    <tr>\n",
       "      <th>3</th>\n",
       "      <td>3</td>\n",
       "      <td>TXN00000004</td>\n",
       "      <td>Health</td>\n",
       "      <td>2020-05-14</td>\n",
       "      <td>2020-04-13</td>\n",
       "    </tr>\n",
       "  </tbody>\n",
       "</table>\n",
       "</div>"
      ],
      "text/plain": [
       "   index TRANSACTION_ID INSURANCE_TYPE    LOSS_DT 30_day_back\n",
       "0      0    TXN00000001         Health 2020-05-16  2020-04-15\n",
       "1      1    TXN00000002       Property 2020-05-13  2020-04-12\n",
       "2      2    TXN00000003       Property 2020-05-21  2020-04-20\n",
       "3      3    TXN00000004         Health 2020-05-14  2020-04-13"
      ]
     },
     "execution_count": 62,
     "metadata": {},
     "output_type": "execute_result"
    }
   ],
   "source": [
    "# creating a temp dataframe with limited columns for faster calculation\n",
    "temp=df_final[['TRANSACTION_ID','INSURANCE_TYPE','LOSS_DT','30_day_back']]\n",
    "temp.reset_index(inplace=True)\n",
    "temp.head(4)"
   ]
  },
  {
   "cell_type": "code",
   "execution_count": 63,
   "id": "e2f92487",
   "metadata": {},
   "outputs": [
    {
     "name": "stderr",
     "output_type": "stream",
     "text": [
      "C:\\Users\\skpra\\AppData\\Local\\Temp\\ipykernel_2844\\3208355156.py:1: SettingWithCopyWarning: \n",
      "A value is trying to be set on a copy of a slice from a DataFrame.\n",
      "Try using .loc[row_indexer,col_indexer] = value instead\n",
      "\n",
      "See the caveats in the documentation: https://pandas.pydata.org/pandas-docs/stable/user_guide/indexing.html#returning-a-view-versus-a-copy\n",
      "  temp['3_day_back']=temp['LOSS_DT'] -  pd.to_timedelta(4, unit='d')\n"
     ]
    },
    {
     "data": {
      "text/html": [
       "<div>\n",
       "<style scoped>\n",
       "    .dataframe tbody tr th:only-of-type {\n",
       "        vertical-align: middle;\n",
       "    }\n",
       "\n",
       "    .dataframe tbody tr th {\n",
       "        vertical-align: top;\n",
       "    }\n",
       "\n",
       "    .dataframe thead th {\n",
       "        text-align: right;\n",
       "    }\n",
       "</style>\n",
       "<table border=\"1\" class=\"dataframe\">\n",
       "  <thead>\n",
       "    <tr style=\"text-align: right;\">\n",
       "      <th></th>\n",
       "      <th>index</th>\n",
       "      <th>TRANSACTION_ID</th>\n",
       "      <th>INSURANCE_TYPE</th>\n",
       "      <th>LOSS_DT</th>\n",
       "      <th>30_day_back</th>\n",
       "      <th>3_day_back</th>\n",
       "    </tr>\n",
       "  </thead>\n",
       "  <tbody>\n",
       "    <tr>\n",
       "      <th>0</th>\n",
       "      <td>0</td>\n",
       "      <td>TXN00000001</td>\n",
       "      <td>Health</td>\n",
       "      <td>2020-05-16</td>\n",
       "      <td>2020-04-15</td>\n",
       "      <td>2020-05-12</td>\n",
       "    </tr>\n",
       "    <tr>\n",
       "      <th>1</th>\n",
       "      <td>1</td>\n",
       "      <td>TXN00000002</td>\n",
       "      <td>Property</td>\n",
       "      <td>2020-05-13</td>\n",
       "      <td>2020-04-12</td>\n",
       "      <td>2020-05-09</td>\n",
       "    </tr>\n",
       "    <tr>\n",
       "      <th>2</th>\n",
       "      <td>2</td>\n",
       "      <td>TXN00000003</td>\n",
       "      <td>Property</td>\n",
       "      <td>2020-05-21</td>\n",
       "      <td>2020-04-20</td>\n",
       "      <td>2020-05-17</td>\n",
       "    </tr>\n",
       "    <tr>\n",
       "      <th>3</th>\n",
       "      <td>3</td>\n",
       "      <td>TXN00000004</td>\n",
       "      <td>Health</td>\n",
       "      <td>2020-05-14</td>\n",
       "      <td>2020-04-13</td>\n",
       "      <td>2020-05-10</td>\n",
       "    </tr>\n",
       "    <tr>\n",
       "      <th>4</th>\n",
       "      <td>4</td>\n",
       "      <td>TXN00000005</td>\n",
       "      <td>Travel</td>\n",
       "      <td>2020-05-17</td>\n",
       "      <td>2020-04-16</td>\n",
       "      <td>2020-05-13</td>\n",
       "    </tr>\n",
       "    <tr>\n",
       "      <th>...</th>\n",
       "      <td>...</td>\n",
       "      <td>...</td>\n",
       "      <td>...</td>\n",
       "      <td>...</td>\n",
       "      <td>...</td>\n",
       "      <td>...</td>\n",
       "    </tr>\n",
       "    <tr>\n",
       "      <th>9995</th>\n",
       "      <td>9995</td>\n",
       "      <td>TXN00009996</td>\n",
       "      <td>Motor</td>\n",
       "      <td>2021-06-25</td>\n",
       "      <td>2021-05-25</td>\n",
       "      <td>2021-06-21</td>\n",
       "    </tr>\n",
       "    <tr>\n",
       "      <th>9996</th>\n",
       "      <td>9996</td>\n",
       "      <td>TXN00009997</td>\n",
       "      <td>Life</td>\n",
       "      <td>2021-06-12</td>\n",
       "      <td>2021-05-12</td>\n",
       "      <td>2021-06-08</td>\n",
       "    </tr>\n",
       "    <tr>\n",
       "      <th>9997</th>\n",
       "      <td>9997</td>\n",
       "      <td>TXN00009998</td>\n",
       "      <td>Health</td>\n",
       "      <td>2021-06-18</td>\n",
       "      <td>2021-05-18</td>\n",
       "      <td>2021-06-14</td>\n",
       "    </tr>\n",
       "    <tr>\n",
       "      <th>9998</th>\n",
       "      <td>9998</td>\n",
       "      <td>TXN00009999</td>\n",
       "      <td>Motor</td>\n",
       "      <td>2021-06-16</td>\n",
       "      <td>2021-05-16</td>\n",
       "      <td>2021-06-12</td>\n",
       "    </tr>\n",
       "    <tr>\n",
       "      <th>9999</th>\n",
       "      <td>9999</td>\n",
       "      <td>TXN00010000</td>\n",
       "      <td>Mobile</td>\n",
       "      <td>2021-06-21</td>\n",
       "      <td>2021-05-21</td>\n",
       "      <td>2021-06-17</td>\n",
       "    </tr>\n",
       "  </tbody>\n",
       "</table>\n",
       "<p>10000 rows × 6 columns</p>\n",
       "</div>"
      ],
      "text/plain": [
       "      index TRANSACTION_ID INSURANCE_TYPE    LOSS_DT 30_day_back 3_day_back\n",
       "0         0    TXN00000001         Health 2020-05-16  2020-04-15 2020-05-12\n",
       "1         1    TXN00000002       Property 2020-05-13  2020-04-12 2020-05-09\n",
       "2         2    TXN00000003       Property 2020-05-21  2020-04-20 2020-05-17\n",
       "3         3    TXN00000004         Health 2020-05-14  2020-04-13 2020-05-10\n",
       "4         4    TXN00000005         Travel 2020-05-17  2020-04-16 2020-05-13\n",
       "...     ...            ...            ...        ...         ...        ...\n",
       "9995   9995    TXN00009996          Motor 2021-06-25  2021-05-25 2021-06-21\n",
       "9996   9996    TXN00009997           Life 2021-06-12  2021-05-12 2021-06-08\n",
       "9997   9997    TXN00009998         Health 2021-06-18  2021-05-18 2021-06-14\n",
       "9998   9998    TXN00009999          Motor 2021-06-16  2021-05-16 2021-06-12\n",
       "9999   9999    TXN00010000         Mobile 2021-06-21  2021-05-21 2021-06-17\n",
       "\n",
       "[10000 rows x 6 columns]"
      ]
     },
     "execution_count": 63,
     "metadata": {},
     "output_type": "execute_result"
    }
   ],
   "source": [
    "temp['3_day_back']=temp['LOSS_DT'] -  pd.to_timedelta(4, unit='d')\n",
    "temp"
   ]
  },
  {
   "cell_type": "code",
   "execution_count": 64,
   "id": "a76416fd",
   "metadata": {},
   "outputs": [],
   "source": [
    "# function acc to the condition\n",
    "def CLAIM_velocity(x):\n",
    "    temp_df_30= temp.loc[(temp['LOSS_DT']<=temp['LOSS_DT'].iloc[temp.index[x]])  & (temp['LOSS_DT']>=temp['30_day_back'].iloc[temp.index[x]])]\n",
    "    temp_df_3= temp.loc[(temp['LOSS_DT']<=temp['LOSS_DT'].iloc[temp.index[x]])  & (temp['LOSS_DT']>=temp['3_day_back'].iloc[temp.index[x]])]\n",
    "    total_30=temp_df_30[temp_df_30['INSURANCE_TYPE']==temp['INSURANCE_TYPE'].iloc[temp.index[x]]]['INSURANCE_TYPE'].count()\n",
    "    total_3=temp_df_3[temp_df_3['INSURANCE_TYPE']==temp['INSURANCE_TYPE'].iloc[temp.index[x]]]['INSURANCE_TYPE'].count()\n",
    "    try:\n",
    "        d =total_30/total_3 \n",
    "        return d\n",
    "    except:\n",
    "        return 'inf'"
   ]
  },
  {
   "cell_type": "code",
   "execution_count": 65,
   "id": "795fb327",
   "metadata": {},
   "outputs": [
    {
     "name": "stderr",
     "output_type": "stream",
     "text": [
      "C:\\Users\\skpra\\AppData\\Local\\Temp\\ipykernel_2844\\609288614.py:1: SettingWithCopyWarning: \n",
      "A value is trying to be set on a copy of a slice from a DataFrame.\n",
      "Try using .loc[row_indexer,col_indexer] = value instead\n",
      "\n",
      "See the caveats in the documentation: https://pandas.pydata.org/pandas-docs/stable/user_guide/indexing.html#returning-a-view-versus-a-copy\n",
      "  temp['CLAIM_VELOCITY'] =temp['index'].apply(CLAIM_velocity)\n"
     ]
    }
   ],
   "source": [
    "temp['CLAIM_VELOCITY'] =temp['index'].apply(CLAIM_velocity)\n",
    "    "
   ]
  },
  {
   "cell_type": "code",
   "execution_count": 66,
   "id": "433a719d",
   "metadata": {},
   "outputs": [
    {
     "data": {
      "text/html": [
       "<div>\n",
       "<style scoped>\n",
       "    .dataframe tbody tr th:only-of-type {\n",
       "        vertical-align: middle;\n",
       "    }\n",
       "\n",
       "    .dataframe tbody tr th {\n",
       "        vertical-align: top;\n",
       "    }\n",
       "\n",
       "    .dataframe thead th {\n",
       "        text-align: right;\n",
       "    }\n",
       "</style>\n",
       "<table border=\"1\" class=\"dataframe\">\n",
       "  <thead>\n",
       "    <tr style=\"text-align: right;\">\n",
       "      <th></th>\n",
       "      <th>index</th>\n",
       "      <th>TRANSACTION_ID</th>\n",
       "      <th>INSURANCE_TYPE</th>\n",
       "      <th>LOSS_DT</th>\n",
       "      <th>30_day_back</th>\n",
       "      <th>3_day_back</th>\n",
       "      <th>CLAIM_VELOCITY</th>\n",
       "    </tr>\n",
       "  </thead>\n",
       "  <tbody>\n",
       "    <tr>\n",
       "      <th>0</th>\n",
       "      <td>0</td>\n",
       "      <td>TXN00000001</td>\n",
       "      <td>Health</td>\n",
       "      <td>2020-05-16</td>\n",
       "      <td>2020-04-15</td>\n",
       "      <td>2020-05-12</td>\n",
       "      <td>1.000000</td>\n",
       "    </tr>\n",
       "    <tr>\n",
       "      <th>1</th>\n",
       "      <td>1</td>\n",
       "      <td>TXN00000002</td>\n",
       "      <td>Property</td>\n",
       "      <td>2020-05-13</td>\n",
       "      <td>2020-04-12</td>\n",
       "      <td>2020-05-09</td>\n",
       "      <td>1.000000</td>\n",
       "    </tr>\n",
       "    <tr>\n",
       "      <th>2</th>\n",
       "      <td>2</td>\n",
       "      <td>TXN00000003</td>\n",
       "      <td>Property</td>\n",
       "      <td>2020-05-21</td>\n",
       "      <td>2020-04-20</td>\n",
       "      <td>2020-05-17</td>\n",
       "      <td>1.190476</td>\n",
       "    </tr>\n",
       "    <tr>\n",
       "      <th>3</th>\n",
       "      <td>3</td>\n",
       "      <td>TXN00000004</td>\n",
       "      <td>Health</td>\n",
       "      <td>2020-05-14</td>\n",
       "      <td>2020-04-13</td>\n",
       "      <td>2020-05-10</td>\n",
       "      <td>1.000000</td>\n",
       "    </tr>\n",
       "  </tbody>\n",
       "</table>\n",
       "</div>"
      ],
      "text/plain": [
       "   index TRANSACTION_ID INSURANCE_TYPE    LOSS_DT 30_day_back 3_day_back  \\\n",
       "0      0    TXN00000001         Health 2020-05-16  2020-04-15 2020-05-12   \n",
       "1      1    TXN00000002       Property 2020-05-13  2020-04-12 2020-05-09   \n",
       "2      2    TXN00000003       Property 2020-05-21  2020-04-20 2020-05-17   \n",
       "3      3    TXN00000004         Health 2020-05-14  2020-04-13 2020-05-10   \n",
       "\n",
       "   CLAIM_VELOCITY  \n",
       "0        1.000000  \n",
       "1        1.000000  \n",
       "2        1.190476  \n",
       "3        1.000000  "
      ]
     },
     "execution_count": 66,
     "metadata": {},
     "output_type": "execute_result"
    }
   ],
   "source": [
    "temp.head(4)"
   ]
  },
  {
   "cell_type": "code",
   "execution_count": 67,
   "id": "048f94c4",
   "metadata": {},
   "outputs": [
    {
     "name": "stderr",
     "output_type": "stream",
     "text": [
      "C:\\Users\\skpra\\AppData\\Local\\Temp\\ipykernel_2844\\449359169.py:2: SettingWithCopyWarning: \n",
      "A value is trying to be set on a copy of a slice from a DataFrame\n",
      "\n",
      "See the caveats in the documentation: https://pandas.pydata.org/pandas-docs/stable/user_guide/indexing.html#returning-a-view-versus-a-copy\n",
      "  temp.drop(['index','INSURANCE_TYPE','LOSS_DT','30_day_back','3_day_back'],inplace=True,axis=1)\n"
     ]
    }
   ],
   "source": [
    "# droppinh unnessasary columns before merging to original dataframe\n",
    "temp.drop(['index','INSURANCE_TYPE','LOSS_DT','30_day_back','3_day_back'],inplace=True,axis=1)"
   ]
  },
  {
   "cell_type": "code",
   "execution_count": 68,
   "id": "b1832625",
   "metadata": {},
   "outputs": [
    {
     "data": {
      "text/html": [
       "<div>\n",
       "<style scoped>\n",
       "    .dataframe tbody tr th:only-of-type {\n",
       "        vertical-align: middle;\n",
       "    }\n",
       "\n",
       "    .dataframe tbody tr th {\n",
       "        vertical-align: top;\n",
       "    }\n",
       "\n",
       "    .dataframe thead th {\n",
       "        text-align: right;\n",
       "    }\n",
       "</style>\n",
       "<table border=\"1\" class=\"dataframe\">\n",
       "  <thead>\n",
       "    <tr style=\"text-align: right;\">\n",
       "      <th></th>\n",
       "      <th>TRANSACTION_ID</th>\n",
       "      <th>CLAIM_VELOCITY</th>\n",
       "    </tr>\n",
       "  </thead>\n",
       "  <tbody>\n",
       "    <tr>\n",
       "      <th>0</th>\n",
       "      <td>TXN00000001</td>\n",
       "      <td>1.000000</td>\n",
       "    </tr>\n",
       "    <tr>\n",
       "      <th>1</th>\n",
       "      <td>TXN00000002</td>\n",
       "      <td>1.000000</td>\n",
       "    </tr>\n",
       "    <tr>\n",
       "      <th>2</th>\n",
       "      <td>TXN00000003</td>\n",
       "      <td>1.190476</td>\n",
       "    </tr>\n",
       "    <tr>\n",
       "      <th>3</th>\n",
       "      <td>TXN00000004</td>\n",
       "      <td>1.000000</td>\n",
       "    </tr>\n",
       "  </tbody>\n",
       "</table>\n",
       "</div>"
      ],
      "text/plain": [
       "  TRANSACTION_ID  CLAIM_VELOCITY\n",
       "0    TXN00000001        1.000000\n",
       "1    TXN00000002        1.000000\n",
       "2    TXN00000003        1.190476\n",
       "3    TXN00000004        1.000000"
      ]
     },
     "execution_count": 68,
     "metadata": {},
     "output_type": "execute_result"
    }
   ],
   "source": [
    "temp.head(4)"
   ]
  },
  {
   "cell_type": "code",
   "execution_count": 69,
   "id": "a1b48059",
   "metadata": {},
   "outputs": [],
   "source": [
    "# merging dataframes\n",
    "df_final=pd.merge(df_final,temp,on='TRANSACTION_ID',how='left')"
   ]
  },
  {
   "cell_type": "markdown",
   "id": "085c18e2",
   "metadata": {},
   "source": [
    "## RESULT Task 10"
   ]
  },
  {
   "cell_type": "code",
   "execution_count": 70,
   "id": "6c509f6a",
   "metadata": {},
   "outputs": [
    {
     "data": {
      "text/html": [
       "<div>\n",
       "<style scoped>\n",
       "    .dataframe tbody tr th:only-of-type {\n",
       "        vertical-align: middle;\n",
       "    }\n",
       "\n",
       "    .dataframe tbody tr th {\n",
       "        vertical-align: top;\n",
       "    }\n",
       "\n",
       "    .dataframe thead th {\n",
       "        text-align: right;\n",
       "    }\n",
       "</style>\n",
       "<table border=\"1\" class=\"dataframe\">\n",
       "  <thead>\n",
       "    <tr style=\"text-align: right;\">\n",
       "      <th></th>\n",
       "      <th>TRANSACTION_ID</th>\n",
       "      <th>CLAIM_VELOCITY</th>\n",
       "    </tr>\n",
       "  </thead>\n",
       "  <tbody>\n",
       "    <tr>\n",
       "      <th>0</th>\n",
       "      <td>TXN00000001</td>\n",
       "      <td>1.000000</td>\n",
       "    </tr>\n",
       "    <tr>\n",
       "      <th>1</th>\n",
       "      <td>TXN00000002</td>\n",
       "      <td>1.000000</td>\n",
       "    </tr>\n",
       "    <tr>\n",
       "      <th>2</th>\n",
       "      <td>TXN00000003</td>\n",
       "      <td>1.190476</td>\n",
       "    </tr>\n",
       "    <tr>\n",
       "      <th>3</th>\n",
       "      <td>TXN00000004</td>\n",
       "      <td>1.000000</td>\n",
       "    </tr>\n",
       "    <tr>\n",
       "      <th>4</th>\n",
       "      <td>TXN00000005</td>\n",
       "      <td>1.000000</td>\n",
       "    </tr>\n",
       "    <tr>\n",
       "      <th>...</th>\n",
       "      <td>...</td>\n",
       "      <td>...</td>\n",
       "    </tr>\n",
       "    <tr>\n",
       "      <th>9995</th>\n",
       "      <td>TXN00009996</td>\n",
       "      <td>12.333333</td>\n",
       "    </tr>\n",
       "    <tr>\n",
       "      <th>9996</th>\n",
       "      <td>TXN00009997</td>\n",
       "      <td>7.272727</td>\n",
       "    </tr>\n",
       "    <tr>\n",
       "      <th>9997</th>\n",
       "      <td>TXN00009998</td>\n",
       "      <td>11.000000</td>\n",
       "    </tr>\n",
       "    <tr>\n",
       "      <th>9998</th>\n",
       "      <td>TXN00009999</td>\n",
       "      <td>7.937500</td>\n",
       "    </tr>\n",
       "    <tr>\n",
       "      <th>9999</th>\n",
       "      <td>TXN00010000</td>\n",
       "      <td>9.461538</td>\n",
       "    </tr>\n",
       "  </tbody>\n",
       "</table>\n",
       "<p>10000 rows × 2 columns</p>\n",
       "</div>"
      ],
      "text/plain": [
       "     TRANSACTION_ID  CLAIM_VELOCITY\n",
       "0       TXN00000001        1.000000\n",
       "1       TXN00000002        1.000000\n",
       "2       TXN00000003        1.190476\n",
       "3       TXN00000004        1.000000\n",
       "4       TXN00000005        1.000000\n",
       "...             ...             ...\n",
       "9995    TXN00009996       12.333333\n",
       "9996    TXN00009997        7.272727\n",
       "9997    TXN00009998       11.000000\n",
       "9998    TXN00009999        7.937500\n",
       "9999    TXN00010000        9.461538\n",
       "\n",
       "[10000 rows x 2 columns]"
      ]
     },
     "execution_count": 70,
     "metadata": {},
     "output_type": "execute_result"
    }
   ],
   "source": [
    "df_final[['TRANSACTION_ID','CLAIM_VELOCITY']]"
   ]
  },
  {
   "cell_type": "markdown",
   "id": "b9e3d0f6",
   "metadata": {},
   "source": [
    "# Task #11\n",
    "Find all low performing agents i.e. employees who are in the bottom 5 percentile based\n",
    "on Claims worked by them."
   ]
  },
  {
   "cell_type": "code",
   "execution_count": 71,
   "id": "2ec074a6",
   "metadata": {},
   "outputs": [],
   "source": [
    "# creating a new data frame 'Top Agent' in orderd sequence based on claim amount\n",
    "df_top_agent= df_final.groupby(['AGENT_ID','AGENT_NAME'])['CLAIM_AMOUNT'].sum().reset_index(name='Total_Claim').sort_values(by='Total_Claim',ascending= False).reset_index(drop=True)"
   ]
  },
  {
   "cell_type": "code",
   "execution_count": 72,
   "id": "1a793dd8",
   "metadata": {},
   "outputs": [
    {
     "data": {
      "text/plain": [
       "60"
      ]
     },
     "execution_count": 72,
     "metadata": {},
     "output_type": "execute_result"
    }
   ],
   "source": [
    "# getting the 5% out total agents\n",
    "int((df_top_agent.shape[0]*5)/100)"
   ]
  },
  {
   "cell_type": "markdown",
   "id": "ddffc335",
   "metadata": {},
   "source": [
    "## RESULT Task 11"
   ]
  },
  {
   "cell_type": "code",
   "execution_count": 73,
   "id": "d4063144",
   "metadata": {},
   "outputs": [
    {
     "data": {
      "text/html": [
       "<div>\n",
       "<style scoped>\n",
       "    .dataframe tbody tr th:only-of-type {\n",
       "        vertical-align: middle;\n",
       "    }\n",
       "\n",
       "    .dataframe tbody tr th {\n",
       "        vertical-align: top;\n",
       "    }\n",
       "\n",
       "    .dataframe thead th {\n",
       "        text-align: right;\n",
       "    }\n",
       "</style>\n",
       "<table border=\"1\" class=\"dataframe\">\n",
       "  <thead>\n",
       "    <tr style=\"text-align: right;\">\n",
       "      <th></th>\n",
       "      <th>AGENT_ID</th>\n",
       "      <th>AGENT_NAME</th>\n",
       "      <th>Total_Claim</th>\n",
       "    </tr>\n",
       "  </thead>\n",
       "  <tbody>\n",
       "    <tr>\n",
       "      <th>1140</th>\n",
       "      <td>AGENT00442</td>\n",
       "      <td>John Morrison</td>\n",
       "      <td>30300</td>\n",
       "    </tr>\n",
       "    <tr>\n",
       "      <th>1141</th>\n",
       "      <td>AGENT00985</td>\n",
       "      <td>Sherman Dammen</td>\n",
       "      <td>30000</td>\n",
       "    </tr>\n",
       "    <tr>\n",
       "      <th>1142</th>\n",
       "      <td>AGENT00091</td>\n",
       "      <td>Marie Driver</td>\n",
       "      <td>30000</td>\n",
       "    </tr>\n",
       "    <tr>\n",
       "      <th>1143</th>\n",
       "      <td>AGENT00149</td>\n",
       "      <td>Penny Diemer</td>\n",
       "      <td>28900</td>\n",
       "    </tr>\n",
       "    <tr>\n",
       "      <th>1144</th>\n",
       "      <td>AGENT00310</td>\n",
       "      <td>Donna Tanaka</td>\n",
       "      <td>28800</td>\n",
       "    </tr>\n",
       "    <tr>\n",
       "      <th>1145</th>\n",
       "      <td>AGENT00188</td>\n",
       "      <td>Judith Sweet</td>\n",
       "      <td>28400</td>\n",
       "    </tr>\n",
       "    <tr>\n",
       "      <th>1146</th>\n",
       "      <td>AGENT00969</td>\n",
       "      <td>Julian Holland</td>\n",
       "      <td>28300</td>\n",
       "    </tr>\n",
       "    <tr>\n",
       "      <th>1147</th>\n",
       "      <td>AGENT00098</td>\n",
       "      <td>Fred Watson</td>\n",
       "      <td>28200</td>\n",
       "    </tr>\n",
       "    <tr>\n",
       "      <th>1148</th>\n",
       "      <td>AGENT01151</td>\n",
       "      <td>Clarence Saul</td>\n",
       "      <td>28000</td>\n",
       "    </tr>\n",
       "    <tr>\n",
       "      <th>1149</th>\n",
       "      <td>AGENT01052</td>\n",
       "      <td>Casey Tidwell</td>\n",
       "      <td>28000</td>\n",
       "    </tr>\n",
       "    <tr>\n",
       "      <th>1150</th>\n",
       "      <td>AGENT00279</td>\n",
       "      <td>Claude High</td>\n",
       "      <td>28000</td>\n",
       "    </tr>\n",
       "    <tr>\n",
       "      <th>1151</th>\n",
       "      <td>AGENT01128</td>\n",
       "      <td>John Castle</td>\n",
       "      <td>28000</td>\n",
       "    </tr>\n",
       "    <tr>\n",
       "      <th>1152</th>\n",
       "      <td>AGENT00088</td>\n",
       "      <td>Sara Keith</td>\n",
       "      <td>27700</td>\n",
       "    </tr>\n",
       "    <tr>\n",
       "      <th>1153</th>\n",
       "      <td>AGENT00186</td>\n",
       "      <td>Clifford Price</td>\n",
       "      <td>27700</td>\n",
       "    </tr>\n",
       "    <tr>\n",
       "      <th>1154</th>\n",
       "      <td>AGENT00894</td>\n",
       "      <td>Opal Faulkner</td>\n",
       "      <td>27600</td>\n",
       "    </tr>\n",
       "    <tr>\n",
       "      <th>1155</th>\n",
       "      <td>AGENT01131</td>\n",
       "      <td>Keith Davis</td>\n",
       "      <td>27500</td>\n",
       "    </tr>\n",
       "    <tr>\n",
       "      <th>1156</th>\n",
       "      <td>AGENT01179</td>\n",
       "      <td>Ryan Schneider</td>\n",
       "      <td>27300</td>\n",
       "    </tr>\n",
       "    <tr>\n",
       "      <th>1157</th>\n",
       "      <td>AGENT00016</td>\n",
       "      <td>Lawrence French</td>\n",
       "      <td>27000</td>\n",
       "    </tr>\n",
       "    <tr>\n",
       "      <th>1158</th>\n",
       "      <td>AGENT00085</td>\n",
       "      <td>Suzanne Rutan</td>\n",
       "      <td>25700</td>\n",
       "    </tr>\n",
       "    <tr>\n",
       "      <th>1159</th>\n",
       "      <td>AGENT01107</td>\n",
       "      <td>Greg Mclaughlin</td>\n",
       "      <td>24700</td>\n",
       "    </tr>\n",
       "    <tr>\n",
       "      <th>1160</th>\n",
       "      <td>AGENT01021</td>\n",
       "      <td>Frances Moye</td>\n",
       "      <td>24300</td>\n",
       "    </tr>\n",
       "    <tr>\n",
       "      <th>1161</th>\n",
       "      <td>AGENT00856</td>\n",
       "      <td>Carol Ducharme</td>\n",
       "      <td>24200</td>\n",
       "    </tr>\n",
       "    <tr>\n",
       "      <th>1162</th>\n",
       "      <td>AGENT00571</td>\n",
       "      <td>Michele Downs</td>\n",
       "      <td>24200</td>\n",
       "    </tr>\n",
       "    <tr>\n",
       "      <th>1163</th>\n",
       "      <td>AGENT00830</td>\n",
       "      <td>John Barnum</td>\n",
       "      <td>23500</td>\n",
       "    </tr>\n",
       "    <tr>\n",
       "      <th>1164</th>\n",
       "      <td>AGENT00805</td>\n",
       "      <td>Brian Blocker</td>\n",
       "      <td>22600</td>\n",
       "    </tr>\n",
       "    <tr>\n",
       "      <th>1165</th>\n",
       "      <td>AGENT00006</td>\n",
       "      <td>Linda Butler</td>\n",
       "      <td>22400</td>\n",
       "    </tr>\n",
       "    <tr>\n",
       "      <th>1166</th>\n",
       "      <td>AGENT00590</td>\n",
       "      <td>Ronnie Carter</td>\n",
       "      <td>22200</td>\n",
       "    </tr>\n",
       "    <tr>\n",
       "      <th>1167</th>\n",
       "      <td>AGENT00316</td>\n",
       "      <td>Elizabeth King</td>\n",
       "      <td>22200</td>\n",
       "    </tr>\n",
       "    <tr>\n",
       "      <th>1168</th>\n",
       "      <td>AGENT00172</td>\n",
       "      <td>Sonia Barnhill</td>\n",
       "      <td>22200</td>\n",
       "    </tr>\n",
       "    <tr>\n",
       "      <th>1169</th>\n",
       "      <td>AGENT00134</td>\n",
       "      <td>Santiago Somers</td>\n",
       "      <td>22000</td>\n",
       "    </tr>\n",
       "    <tr>\n",
       "      <th>1170</th>\n",
       "      <td>AGENT00351</td>\n",
       "      <td>Sally Hayden</td>\n",
       "      <td>21700</td>\n",
       "    </tr>\n",
       "    <tr>\n",
       "      <th>1171</th>\n",
       "      <td>AGENT00672</td>\n",
       "      <td>Amos Casillas</td>\n",
       "      <td>21300</td>\n",
       "    </tr>\n",
       "    <tr>\n",
       "      <th>1172</th>\n",
       "      <td>AGENT00562</td>\n",
       "      <td>Steve Gray</td>\n",
       "      <td>21100</td>\n",
       "    </tr>\n",
       "    <tr>\n",
       "      <th>1173</th>\n",
       "      <td>AGENT00536</td>\n",
       "      <td>Florence Ashlock</td>\n",
       "      <td>20000</td>\n",
       "    </tr>\n",
       "    <tr>\n",
       "      <th>1174</th>\n",
       "      <td>AGENT00252</td>\n",
       "      <td>Harold Bonn</td>\n",
       "      <td>20000</td>\n",
       "    </tr>\n",
       "    <tr>\n",
       "      <th>1175</th>\n",
       "      <td>AGENT00804</td>\n",
       "      <td>Kenna Olsen</td>\n",
       "      <td>20000</td>\n",
       "    </tr>\n",
       "    <tr>\n",
       "      <th>1176</th>\n",
       "      <td>AGENT00197</td>\n",
       "      <td>Gerald Barretto</td>\n",
       "      <td>18500</td>\n",
       "    </tr>\n",
       "    <tr>\n",
       "      <th>1177</th>\n",
       "      <td>AGENT00425</td>\n",
       "      <td>William Howard</td>\n",
       "      <td>17800</td>\n",
       "    </tr>\n",
       "    <tr>\n",
       "      <th>1178</th>\n",
       "      <td>AGENT00841</td>\n",
       "      <td>Robert Ruderman</td>\n",
       "      <td>17800</td>\n",
       "    </tr>\n",
       "    <tr>\n",
       "      <th>1179</th>\n",
       "      <td>AGENT00585</td>\n",
       "      <td>Matthew Stepp</td>\n",
       "      <td>16600</td>\n",
       "    </tr>\n",
       "    <tr>\n",
       "      <th>1180</th>\n",
       "      <td>AGENT00275</td>\n",
       "      <td>John Kirby</td>\n",
       "      <td>16200</td>\n",
       "    </tr>\n",
       "    <tr>\n",
       "      <th>1181</th>\n",
       "      <td>AGENT00185</td>\n",
       "      <td>Michael Wolfe</td>\n",
       "      <td>16100</td>\n",
       "    </tr>\n",
       "    <tr>\n",
       "      <th>1182</th>\n",
       "      <td>AGENT00910</td>\n",
       "      <td>Vincent Ragan</td>\n",
       "      <td>15500</td>\n",
       "    </tr>\n",
       "    <tr>\n",
       "      <th>1183</th>\n",
       "      <td>AGENT00773</td>\n",
       "      <td>David Brandenberger</td>\n",
       "      <td>15000</td>\n",
       "    </tr>\n",
       "    <tr>\n",
       "      <th>1184</th>\n",
       "      <td>AGENT00689</td>\n",
       "      <td>Connie Hunt</td>\n",
       "      <td>13700</td>\n",
       "    </tr>\n",
       "    <tr>\n",
       "      <th>1185</th>\n",
       "      <td>AGENT00156</td>\n",
       "      <td>Mary Lane</td>\n",
       "      <td>13200</td>\n",
       "    </tr>\n",
       "    <tr>\n",
       "      <th>1186</th>\n",
       "      <td>AGENT00300</td>\n",
       "      <td>Sean Tate</td>\n",
       "      <td>12600</td>\n",
       "    </tr>\n",
       "    <tr>\n",
       "      <th>1187</th>\n",
       "      <td>AGENT00263</td>\n",
       "      <td>Marita Swearengin</td>\n",
       "      <td>11500</td>\n",
       "    </tr>\n",
       "    <tr>\n",
       "      <th>1188</th>\n",
       "      <td>AGENT00780</td>\n",
       "      <td>Yvonne Coomer</td>\n",
       "      <td>11300</td>\n",
       "    </tr>\n",
       "    <tr>\n",
       "      <th>1189</th>\n",
       "      <td>AGENT00732</td>\n",
       "      <td>Sylvia Tran</td>\n",
       "      <td>11300</td>\n",
       "    </tr>\n",
       "    <tr>\n",
       "      <th>1190</th>\n",
       "      <td>AGENT00706</td>\n",
       "      <td>Laura Staggs</td>\n",
       "      <td>10800</td>\n",
       "    </tr>\n",
       "    <tr>\n",
       "      <th>1191</th>\n",
       "      <td>AGENT00721</td>\n",
       "      <td>Martin Murphy</td>\n",
       "      <td>9000</td>\n",
       "    </tr>\n",
       "    <tr>\n",
       "      <th>1192</th>\n",
       "      <td>AGENT00014</td>\n",
       "      <td>Larry Dryer</td>\n",
       "      <td>7400</td>\n",
       "    </tr>\n",
       "    <tr>\n",
       "      <th>1193</th>\n",
       "      <td>AGENT00628</td>\n",
       "      <td>Marsha Kingsley</td>\n",
       "      <td>6100</td>\n",
       "    </tr>\n",
       "    <tr>\n",
       "      <th>1194</th>\n",
       "      <td>AGENT00790</td>\n",
       "      <td>Clay Harmon</td>\n",
       "      <td>6000</td>\n",
       "    </tr>\n",
       "    <tr>\n",
       "      <th>1195</th>\n",
       "      <td>AGENT01037</td>\n",
       "      <td>Mary Franklin</td>\n",
       "      <td>5600</td>\n",
       "    </tr>\n",
       "    <tr>\n",
       "      <th>1196</th>\n",
       "      <td>AGENT00604</td>\n",
       "      <td>Thelma Salinas</td>\n",
       "      <td>5500</td>\n",
       "    </tr>\n",
       "    <tr>\n",
       "      <th>1197</th>\n",
       "      <td>AGENT00621</td>\n",
       "      <td>Richard Murphy</td>\n",
       "      <td>5300</td>\n",
       "    </tr>\n",
       "    <tr>\n",
       "      <th>1198</th>\n",
       "      <td>AGENT01077</td>\n",
       "      <td>Sandra Tucker</td>\n",
       "      <td>4200</td>\n",
       "    </tr>\n",
       "    <tr>\n",
       "      <th>1199</th>\n",
       "      <td>AGENT01154</td>\n",
       "      <td>Nichole Wright</td>\n",
       "      <td>800</td>\n",
       "    </tr>\n",
       "  </tbody>\n",
       "</table>\n",
       "</div>"
      ],
      "text/plain": [
       "        AGENT_ID           AGENT_NAME  Total_Claim\n",
       "1140  AGENT00442        John Morrison        30300\n",
       "1141  AGENT00985       Sherman Dammen        30000\n",
       "1142  AGENT00091         Marie Driver        30000\n",
       "1143  AGENT00149         Penny Diemer        28900\n",
       "1144  AGENT00310         Donna Tanaka        28800\n",
       "1145  AGENT00188         Judith Sweet        28400\n",
       "1146  AGENT00969       Julian Holland        28300\n",
       "1147  AGENT00098          Fred Watson        28200\n",
       "1148  AGENT01151        Clarence Saul        28000\n",
       "1149  AGENT01052        Casey Tidwell        28000\n",
       "1150  AGENT00279          Claude High        28000\n",
       "1151  AGENT01128          John Castle        28000\n",
       "1152  AGENT00088           Sara Keith        27700\n",
       "1153  AGENT00186       Clifford Price        27700\n",
       "1154  AGENT00894        Opal Faulkner        27600\n",
       "1155  AGENT01131          Keith Davis        27500\n",
       "1156  AGENT01179       Ryan Schneider        27300\n",
       "1157  AGENT00016      Lawrence French        27000\n",
       "1158  AGENT00085        Suzanne Rutan        25700\n",
       "1159  AGENT01107      Greg Mclaughlin        24700\n",
       "1160  AGENT01021         Frances Moye        24300\n",
       "1161  AGENT00856       Carol Ducharme        24200\n",
       "1162  AGENT00571        Michele Downs        24200\n",
       "1163  AGENT00830          John Barnum        23500\n",
       "1164  AGENT00805        Brian Blocker        22600\n",
       "1165  AGENT00006         Linda Butler        22400\n",
       "1166  AGENT00590        Ronnie Carter        22200\n",
       "1167  AGENT00316       Elizabeth King        22200\n",
       "1168  AGENT00172       Sonia Barnhill        22200\n",
       "1169  AGENT00134      Santiago Somers        22000\n",
       "1170  AGENT00351         Sally Hayden        21700\n",
       "1171  AGENT00672        Amos Casillas        21300\n",
       "1172  AGENT00562           Steve Gray        21100\n",
       "1173  AGENT00536     Florence Ashlock        20000\n",
       "1174  AGENT00252          Harold Bonn        20000\n",
       "1175  AGENT00804          Kenna Olsen        20000\n",
       "1176  AGENT00197      Gerald Barretto        18500\n",
       "1177  AGENT00425       William Howard        17800\n",
       "1178  AGENT00841      Robert Ruderman        17800\n",
       "1179  AGENT00585        Matthew Stepp        16600\n",
       "1180  AGENT00275           John Kirby        16200\n",
       "1181  AGENT00185        Michael Wolfe        16100\n",
       "1182  AGENT00910        Vincent Ragan        15500\n",
       "1183  AGENT00773  David Brandenberger        15000\n",
       "1184  AGENT00689          Connie Hunt        13700\n",
       "1185  AGENT00156            Mary Lane        13200\n",
       "1186  AGENT00300            Sean Tate        12600\n",
       "1187  AGENT00263    Marita Swearengin        11500\n",
       "1188  AGENT00780        Yvonne Coomer        11300\n",
       "1189  AGENT00732          Sylvia Tran        11300\n",
       "1190  AGENT00706         Laura Staggs        10800\n",
       "1191  AGENT00721        Martin Murphy         9000\n",
       "1192  AGENT00014          Larry Dryer         7400\n",
       "1193  AGENT00628      Marsha Kingsley         6100\n",
       "1194  AGENT00790          Clay Harmon         6000\n",
       "1195  AGENT01037        Mary Franklin         5600\n",
       "1196  AGENT00604       Thelma Salinas         5500\n",
       "1197  AGENT00621       Richard Murphy         5300\n",
       "1198  AGENT01077        Sandra Tucker         4200\n",
       "1199  AGENT01154       Nichole Wright          800"
      ]
     },
     "execution_count": 73,
     "metadata": {},
     "output_type": "execute_result"
    }
   ],
   "source": [
    "# low performing 5% agents\n",
    "df_top_agent.tail(int((df_top_agent.shape[0]*5)/100))"
   ]
  },
  {
   "cell_type": "markdown",
   "id": "a71fedc9",
   "metadata": {},
   "source": [
    "## Task #12\n",
    "Business wants to find all Suspicious Employees (Agents).\n",
    "IF TOTAL CLAIM AMOUNT which meet below criteria is >= 15000 THEN AGENT is classified\n",
    "as Suspicious ELSE Not\n",
    "CLAIM_STATUS = Approved AND CUSTOMER_RISK_SEGMENTATION = High\n",
    "AND INCIDENT_SEVERITY = “Major Loss”\n",
    "If Suspicious, then 1 ELSE 0. Find mean of this column."
   ]
  },
  {
   "cell_type": "code",
   "execution_count": 74,
   "id": "e41f0c1e",
   "metadata": {},
   "outputs": [
    {
     "data": {
      "text/plain": [
       "array(['A', 'D'], dtype=object)"
      ]
     },
     "execution_count": 74,
     "metadata": {},
     "output_type": "execute_result"
    }
   ],
   "source": [
    "# getting info about the column \n",
    "df_final['CLAIM_STATUS'].unique()"
   ]
  },
  {
   "cell_type": "code",
   "execution_count": 75,
   "id": "5c208181",
   "metadata": {},
   "outputs": [
    {
     "data": {
      "text/plain": [
       "array(['L', 'M', 'H'], dtype=object)"
      ]
     },
     "execution_count": 75,
     "metadata": {},
     "output_type": "execute_result"
    }
   ],
   "source": [
    "# getting info about the column\n",
    "df_final['RISK_SEGMENTATION'].unique()"
   ]
  },
  {
   "cell_type": "code",
   "execution_count": 76,
   "id": "e4688e27",
   "metadata": {},
   "outputs": [
    {
     "data": {
      "text/plain": [
       "array(['Major Loss', 'Total Loss', 'Minor Loss'], dtype=object)"
      ]
     },
     "execution_count": 76,
     "metadata": {},
     "output_type": "execute_result"
    }
   ],
   "source": [
    "# getting info about the column\n",
    "df_final['INCIDENT_SEVERITY'].unique()"
   ]
  },
  {
   "cell_type": "code",
   "execution_count": 77,
   "id": "93014c5a",
   "metadata": {},
   "outputs": [],
   "source": [
    "# setting value '1' for satisfied rows\n",
    "df_final.loc[(df_final['CLAIM_AMOUNT']>15000) & (df_final['CLAIM_STATUS']=='A') & (df_final['RISK_SEGMENTATION']=='H') & (df_final['INCIDENT_SEVERITY']=='Major Loss'), 'Suspicious_Employee']=1"
   ]
  },
  {
   "cell_type": "code",
   "execution_count": 78,
   "id": "cac374d9",
   "metadata": {},
   "outputs": [],
   "source": [
    "# setting value '0' for unsatisfied rows\n",
    "df_final.loc[df_final['Suspicious_Employee']!=1,'Suspicious_Employee']=0"
   ]
  },
  {
   "cell_type": "code",
   "execution_count": 79,
   "id": "26b5d172",
   "metadata": {},
   "outputs": [
    {
     "data": {
      "text/plain": [
       "Suspicious_Employee\n",
       "0.0    9853\n",
       "1.0     147\n",
       "dtype: int64"
      ]
     },
     "execution_count": 79,
     "metadata": {},
     "output_type": "execute_result"
    }
   ],
   "source": [
    "df_final.groupby('Suspicious_Employee').size()"
   ]
  },
  {
   "cell_type": "markdown",
   "id": "77c53753",
   "metadata": {},
   "source": [
    "### 143 total suspicious employee "
   ]
  },
  {
   "cell_type": "code",
   "execution_count": 80,
   "id": "cdf5a1ca",
   "metadata": {},
   "outputs": [
    {
     "data": {
      "text/plain": [
       "0.0147"
      ]
     },
     "execution_count": 80,
     "metadata": {},
     "output_type": "execute_result"
    }
   ],
   "source": [
    "# mean of the suspicious employee feature\n",
    "df_final['Suspicious_Employee'].mean()"
   ]
  },
  {
   "cell_type": "markdown",
   "id": "d532c383",
   "metadata": {},
   "source": [
    "## mean = 0.0147"
   ]
  }
 ],
 "metadata": {
  "kernelspec": {
   "display_name": "Python 3 (ipykernel)",
   "language": "python",
   "name": "python3"
  },
  "language_info": {
   "codemirror_mode": {
    "name": "ipython",
    "version": 3
   },
   "file_extension": ".py",
   "mimetype": "text/x-python",
   "name": "python",
   "nbconvert_exporter": "python",
   "pygments_lexer": "ipython3",
   "version": "3.9.12"
  }
 },
 "nbformat": 4,
 "nbformat_minor": 5
}
